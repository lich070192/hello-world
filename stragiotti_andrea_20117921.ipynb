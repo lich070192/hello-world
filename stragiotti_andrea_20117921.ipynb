{
  "nbformat": 4,
  "nbformat_minor": 0,
  "metadata": {
    "colab": {
      "name": "stragiotti_andrea_20117921.ipynb",
      "provenance": [],
      "collapsed_sections": [],
      "include_colab_link": true
    },
    "kernelspec": {
      "name": "python3",
      "display_name": "Python 3"
    },
    "accelerator": "TPU"
  },
  "cells": [
    {
      "cell_type": "markdown",
      "metadata": {
        "id": "view-in-github",
        "colab_type": "text"
      },
      "source": [
        "<a href=\"https://colab.research.google.com/github/lich070192/hello-world/blob/master/stragiotti_andrea_20117921.ipynb\" target=\"_parent\"><img src=\"https://colab.research.google.com/assets/colab-badge.svg\" alt=\"Open In Colab\"/></a>"
      ]
    },
    {
      "cell_type": "markdown",
      "metadata": {
        "id": "f0DNj4zyIGKa"
      },
      "source": [
        "# Assignment 1\n",
        "The first assignment has two parts. The first part concerns PyTorch and the second part is about feature engineering for a basic NLP task.\n",
        "## Instructions\n",
        "\n",
        "1.   Make a copy of this notebook \n",
        "  - Click on \"File -> Save a copy in Drive\" and open it in Colab afterwards\n",
        "  - Alternatively, download the notebook and work on it on your local machine. However, keep in mind that you will have to make sure it still runs on Colab afterwards and does not depend on any packages that you installed locally\n",
        "2.   Rename your notebook to **surname_forename_studentnumber.ipynb**\n",
        "  - Make sure to exactly follow this naming scheme (don't replace `_` with `-` or something like that)\n",
        "  - **Failure to comply with this scheme results in -10 points!**\n",
        "3.   For math exercises, use $\\LaTeX$  to typset your answer\n",
        "4.   For coding exercises, insert your code at `# TODO` statements\n",
        "5.   For multiple-choice questions, choose an answer from the drop-down list\n",
        "6.   Before submitting your notebook, **make sure that it runs without errors when executed from start to end on Colab**\n",
        "  - To check this, reload your notebook and the Python kernel, and run the notebook from the first to the last cell\n",
        "  - **If your notebook throws any errors, you will be penalized by -25 points in addition to any penalities from incorrect answers**\n",
        "  - We are not going to fix any errors (no matter how small) to make your code work\n",
        "7.  Download your notebook and submit it on Moodle\n",
        "  - Click on \"File -> Download .ipynb\"\n",
        "  \n",
        "\n"
      ]
    },
    {
      "cell_type": "markdown",
      "metadata": {
        "id": "qvB4c3R4II91"
      },
      "source": [
        "## Notebook Setup [don't change!]"
      ]
    },
    {
      "cell_type": "code",
      "metadata": {
        "id": "d0w7l3EpExU6",
        "colab": {
          "base_uri": "https://localhost:8080/"
        },
        "outputId": "645fa564-7f07-41a2-fafd-2d938c9885d5"
      },
      "source": [
        "%%shell\n",
        "pip install torch"
      ],
      "execution_count": 1,
      "outputs": [
        {
          "output_type": "stream",
          "text": [
            "Requirement already satisfied: torch in /usr/local/lib/python3.6/dist-packages (1.7.0+cu101)\n",
            "Requirement already satisfied: typing-extensions in /usr/local/lib/python3.6/dist-packages (from torch) (3.7.4.3)\n",
            "Requirement already satisfied: numpy in /usr/local/lib/python3.6/dist-packages (from torch) (1.19.5)\n",
            "Requirement already satisfied: future in /usr/local/lib/python3.6/dist-packages (from torch) (0.16.0)\n",
            "Requirement already satisfied: dataclasses in /usr/local/lib/python3.6/dist-packages (from torch) (0.8)\n"
          ],
          "name": "stdout"
        },
        {
          "output_type": "execute_result",
          "data": {
            "text/plain": [
              ""
            ]
          },
          "metadata": {
            "tags": []
          },
          "execution_count": 1
        }
      ]
    },
    {
      "cell_type": "code",
      "metadata": {
        "id": "Pqig2nu9Eztp",
        "colab": {
          "base_uri": "https://localhost:8080/",
          "height": 35
        },
        "outputId": "68e0286f-f0ac-4906-a0ea-182df978c851"
      },
      "source": [
        "import torch\n",
        "from torch import nn\n",
        "torch.__version__ "
      ],
      "execution_count": 2,
      "outputs": [
        {
          "output_type": "execute_result",
          "data": {
            "application/vnd.google.colaboratory.intrinsic+json": {
              "type": "string"
            },
            "text/plain": [
              "'1.7.0+cu101'"
            ]
          },
          "metadata": {
            "tags": []
          },
          "execution_count": 2
        }
      ]
    },
    {
      "cell_type": "markdown",
      "metadata": {
        "id": "hPDNBpMBGhsj"
      },
      "source": [
        "# Part I: PyTorch [50 points]"
      ]
    },
    {
      "cell_type": "markdown",
      "metadata": {
        "id": "ucOi5QgPG3Jg"
      },
      "source": [
        "## Linear Algebra [30 points]"
      ]
    },
    {
      "cell_type": "markdown",
      "metadata": {
        "id": "FCJ4t0Mk0jlz"
      },
      "source": [
        "### PyTorch Tensors [5 points]"
      ]
    },
    {
      "cell_type": "markdown",
      "metadata": {
        "id": "gZNaDhZHKYFL"
      },
      "source": [
        "#### Construct Scaled Identity Matrix [1 point]\n",
        "Given $n \\in \\mathbb{N}$ and $c \\in \\mathbb{R}$, construct a matrix $\\mathbf{X} \\in \\mathbb{R}^{n\\ \\times\\ n}$ where $\\mathbf{X}$ has $c$ on its diagonal and zeros everywhere else."
      ]
    },
    {
      "cell_type": "code",
      "metadata": {
        "id": "xwYNaam7L0Aw",
        "colab": {
          "base_uri": "https://localhost:8080/"
        },
        "outputId": "43185307-d519-474e-cde0-74f322dd6f8c"
      },
      "source": [
        "def construct_scaled_identity(n, c):\n",
        "  a = torch.zeros((n, n))\n",
        "  # np.fill_diagonal(a, c)\n",
        "  torch.diagonal(a).fill_(c)\n",
        "  return a\n",
        "\n",
        "construct_scaled_identity(4, 3.2)"
      ],
      "execution_count": 3,
      "outputs": [
        {
          "output_type": "execute_result",
          "data": {
            "text/plain": [
              "tensor([[3.2000, 0.0000, 0.0000, 0.0000],\n",
              "        [0.0000, 3.2000, 0.0000, 0.0000],\n",
              "        [0.0000, 0.0000, 3.2000, 0.0000],\n",
              "        [0.0000, 0.0000, 0.0000, 3.2000]])"
            ]
          },
          "metadata": {
            "tags": []
          },
          "execution_count": 3
        }
      ]
    },
    {
      "cell_type": "markdown",
      "metadata": {
        "id": "0LN669ufJMsq"
      },
      "source": [
        "#### Mean Diagonal [1 point]\n",
        "Given a square matrix $\\mathbf{X}\\in\\mathbb{R}^{n\\ \\times\\ n}$, return the mean of its diagonal."
      ]
    },
    {
      "cell_type": "code",
      "metadata": {
        "id": "9Cqjyj6rJ6Pg",
        "colab": {
          "base_uri": "https://localhost:8080/"
        },
        "outputId": "bfeb8cad-59e2-49c4-b186-3d1288fd18cd"
      },
      "source": [
        "def mean_diagonal(x):\n",
        "  a = torch.mean(torch.diagonal(x))\n",
        "  return a\n",
        "\n",
        "x = torch.arange(0, 16, dtype=torch.float).view(4, 4)\n",
        "mean_diagonal(x)"
      ],
      "execution_count": 4,
      "outputs": [
        {
          "output_type": "execute_result",
          "data": {
            "text/plain": [
              "tensor(7.5000)"
            ]
          },
          "metadata": {
            "tags": []
          },
          "execution_count": 4
        }
      ]
    },
    {
      "cell_type": "markdown",
      "metadata": {
        "id": "Yv9v5j0AMfpO"
      },
      "source": [
        "#### Indexing [1 point]\n",
        "Given a matrix $\\mathbf{X}\\in\\mathbb{R}^{n\\ \\times\\ m}$ and $i,j \\in \\mathbb{N}$, return the submatrix $\\mathbf{Y}\\in\\mathbb{R}^{i\\ \\times\\ j}$ of the last i rows and last j columns of $\\mathbf{X}$ (i.e. the bottom right submatrix of the given size). You can assume that $i \\leq n$ and $j \\leq m$."
      ]
    },
    {
      "cell_type": "code",
      "metadata": {
        "id": "DxXTcoO6Nj_n",
        "colab": {
          "base_uri": "https://localhost:8080/"
        },
        "outputId": "b7ad4b8b-b94c-4151-f5a8-cb39adaf6cf6"
      },
      "source": [
        "def bottom_right_matrix(x, i, j):\n",
        "  a = x[-i:, -j:]\n",
        "  return a\n",
        "\n",
        "x = torch.arange(0, 12).view(3, 4)\n",
        "bottom_right_matrix(x, 2, 2)"
      ],
      "execution_count": 5,
      "outputs": [
        {
          "output_type": "execute_result",
          "data": {
            "text/plain": [
              "tensor([[ 6,  7],\n",
              "        [10, 11]])"
            ]
          },
          "metadata": {
            "tags": []
          },
          "execution_count": 5
        }
      ]
    },
    {
      "cell_type": "markdown",
      "metadata": {
        "id": "QWooDl4O0ooy"
      },
      "source": [
        "#### Transpose Sum [2 points]\n",
        "Given a tensor $\\mathcal{X}\\in\\mathbb{R}^{i\\ \\times\\ j\\ \\times\\ k}$, return a transposed tensor $\\mathcal{y}\\in\\mathbb{R}^{j\\ \\times\\ i}$ whose values in the third dimension are summed up."
      ]
    },
    {
      "cell_type": "code",
      "metadata": {
        "id": "h_o8MrXj0nQu",
        "colab": {
          "base_uri": "https://localhost:8080/"
        },
        "outputId": "8f35151b-efb5-47df-c8c6-eb92767e374e"
      },
      "source": [
        "def transpose_sum(x):\n",
        "  a = torch.sum(x, dim=2)\n",
        "  a = torch.transpose(a, 0, 1)\n",
        "  return a\n",
        "\n",
        "x = torch.arange(0, 12).view(2, 3, 2)\n",
        "transpose_sum(x)"
      ],
      "execution_count": 6,
      "outputs": [
        {
          "output_type": "execute_result",
          "data": {
            "text/plain": [
              "tensor([[ 1, 13],\n",
              "        [ 5, 17],\n",
              "        [ 9, 21]])"
            ]
          },
          "metadata": {
            "tags": []
          },
          "execution_count": 6
        }
      ]
    },
    {
      "cell_type": "markdown",
      "metadata": {
        "id": "nhuGQ1I_klmv"
      },
      "source": [
        "### Matrix-vector Multiplication [10 points]"
      ]
    },
    {
      "cell_type": "markdown",
      "metadata": {
        "id": "kJ7YPXIrIpOg"
      },
      "source": [
        "Implement five unique ways for multiplying a matrix A with a vector b. **Each PyTorch function is allowed to be used in only one of the five implementations**. For instance, if you use `unsqueeze` in one of the methods, you are not allowed to use it for the other five implementations. Furthermore, functions in `torch` and in `torch.Tensor` are treated as the same function (i.e. using `torch.add(x, y)`, `x.add(y)` and `x + y` are all treated as the same function and hence are not allowed to be used in more than one implementation). Your code needs to be applicable to any matrix $A \\in \\mathbb{R}^{n\\ \\times\\ m }$ and vector $b\\in\\mathbb{R}^m$."
      ]
    },
    {
      "cell_type": "code",
      "metadata": {
        "id": "9FPwXxLEIdPL"
      },
      "source": [
        "def matrixvector1(A, b):  \n",
        "  return torch.matmul(A, b)\n",
        "\n",
        "def matrixvector2(A, b):\n",
        "  return A @ b\n",
        "\n",
        "def matrixvector3(A, b):\n",
        "  return A.mm(b.unsqueeze(1)).squeeze(-1)\n",
        "\n",
        "def matrixvector4(A, b):\n",
        "  return torch.einsum('ij,j->i', A, b)\n",
        "\n",
        "def matrixvector5(A, b):\n",
        "  return torch.mv(A, b)"
      ],
      "execution_count": 7,
      "outputs": []
    },
    {
      "cell_type": "markdown",
      "metadata": {
        "id": "qG2Uk7oRkqeO"
      },
      "source": [
        "### Backprop [15 points]"
      ]
    },
    {
      "cell_type": "markdown",
      "metadata": {
        "id": "y-AL4Dl8xJF8"
      },
      "source": [
        "#### Forward [2 points]\n",
        "Implement $\\mathbf{y}\\odot\\text{tanh}\\left(\\mathbf{W}\\mathbf{x}+\\mathbf{b}\\right)$ in PyTorch without using a linear layer implementation (i.e. do the matrix-vector mulitplication and addition of a bias term yourself). Note that we are not looking for a batched implementation, so assume $\\mathbf{y},\\mathbf{b} \\in \\mathbb{R}^n, \\mathbf{x}\\in\\mathbb{R}^m$ and $\\mathbf{W}\\in\\mathbb{R}^{n\\ \\times\\ m}$"
      ]
    },
    {
      "cell_type": "code",
      "metadata": {
        "id": "mcCqnNPtv0nu"
      },
      "source": [
        "def fw(y, W, x, b):\n",
        "  result = y * torch.tanh(torch.matmul(W, x) + b)\n",
        "  return result"
      ],
      "execution_count": 8,
      "outputs": []
    },
    {
      "cell_type": "markdown",
      "metadata": {
        "id": "Xav_9KwaxkFL"
      },
      "source": [
        "#### Gradient [10 points]\n",
        "Derive $\\mathbf{z}^\\top\\frac{\\partial}{\\partial \\mathbf{x}}\\left[\\mathbf{y}\\odot\\text{tanh}\\left(\\mathbf{W}\\mathbf{x}+\\mathbf{b}\\right)\\right]$ analytically. Here $\\mathbf{z}$ is an _upstream (error) gradient_ and we are interested in calculating the _downstream gradient_ for $\\mathbf{x}$. Make sure to write down all intermediate steps and not just the final result. "
      ]
    },
    {
      "cell_type": "markdown",
      "metadata": {
        "id": "yn3Bu-y8y1Co"
      },
      "source": [
        "Let's define:\n",
        "\\begin{equation}\n",
        "h = \\text{tanh}(z)\n",
        "\\\\\n",
        "z = Wx + b\n",
        "\\end{equation}\n",
        "We can therefore write:\n",
        "\\begin{align}\n",
        "\\mathbf{z}^\\top\\frac{\\partial}{\\partial \\mathbf{x}}\\left[\\mathbf{y}\\odot\\text{tanh}\\left(\\mathbf{W}\\mathbf{x}+\\mathbf{b}\\right)\\right] \n",
        "&=\\mathbf{z}^\\top\\frac{\\partial}{\\partial \\mathbf{x}} [\\mathbf{y}\\odot{h}]\n",
        "\\end{align}\n",
        "Also, by using the chain rule:\n",
        "\\begin{equation}\n",
        "\\frac{\\partial}{\\partial \\mathbf{x}} = \\frac{\\partial}{\\partial h}\\frac{\\partial h}{\\partial z}\\frac{\\partial z}{\\partial \\mathbf{x}}\n",
        "\\end{equation}\n",
        "And, deriving the product:\n",
        "\\begin{equation}\n",
        "\\mathbf{z}^\\top\\frac{\\partial}{\\partial \\mathbf{x}} [\\mathbf{y}\\odot{h}] = \\mathbf{z}^\\top \\mathbf{y} \\frac{\\partial} {\\partial \\mathbf{x}} \\odot{h} + {h} \\odot \\frac{\\partial} {\\partial \\mathbf{x}} \\mathbf{y}\n",
        "\\end{equation}\n",
        "We can remove the second portion since:\n",
        "\\begin{equation}\n",
        "\\frac{\\partial} {\\partial \\mathbf{x}} \\mathbf{y} = 0\n",
        "\\end{equation}\n",
        "So finally:\n",
        "\\begin{equation}\n",
        "\\\\\n",
        "\\mathbf{z}^\\top\\frac{\\partial}{\\partial \\mathbf{x}} [\\mathbf{y}\\odot{h}] = \\mathbf{z}^\\top\\frac{\\partial}{\\partial h}\\frac{\\partial h}{\\partial z}\\frac{\\partial z}{\\partial \\mathbf{x}} [\\mathbf{y}\\odot{h}]\n",
        "\\\\\n",
        "\\mathbf{z}^\\top\\frac{\\partial}{\\partial h}\\frac{\\partial h}{\\partial z}\\frac{\\partial z}{\\partial \\mathbf{x}} [\\mathbf{y}\\odot{h}] = \\mathbf{z}^\\top diag(\\mathbf{y}\\odot\\frac{\\partial h}{\\partial z}\\frac{\\partial z}{\\partial \\mathbf{x}}[h])\n",
        "\\\\\n",
        "\\mathbf{z}^\\top diag(\\mathbf{y}\\odot\\frac{\\partial h}{\\partial z}\\frac{\\partial z}{\\partial \\mathbf{x}}[\\text{tanh}(z)] = \\mathbf{z}^\\top diag(\\mathbf{y}\\odot(1 - \\text{tanh}(z)^2))\\frac{\\partial z}{\\partial \\mathbf{x}}[z]\n",
        "\\\\\n",
        "\\mathbf{z}^\\top diag(\\mathbf{y}\\odot(1 - \\text{tanh}(z)^2))\\frac{\\partial z}{\\partial \\mathbf{x}}[z] = \\mathbf{z}^\\top diag(\\mathbf{y}\\odot(1 - \\text{tanh}(z)^2))W\n",
        "\\end{equation}\n",
        "Where:\n",
        "\\begin{equation}\n",
        "\\frac{\\partial}{\\partial h} = diag(\\mathbf{y})\n",
        "\\\\\n",
        "\\frac{\\partial h}{\\partial z} = 1 - tanh(z)^2\n",
        "\\\\\n",
        "\\frac{\\partial z}{\\partial \\mathbf{x}} = W\n",
        "\\end{equation}\n",
        "The first derivative is defined as such by using a property of the Hadamard product where:\n",
        "\\begin{equation}\n",
        "\\mathbf{A}\\odot\\mathbf{X} = diag(\\mathbf{A})\\mathbf{X}\n",
        "\\end{equation}"
      ]
    },
    {
      "cell_type": "markdown",
      "metadata": {
        "id": "by45qCyMxrBr"
      },
      "source": [
        "#### Backward [3 points]\n",
        "Implement the calculation for $\\mathbf{z}^\\top\\frac{\\partial}{\\partial \\mathbf{x}}\\left[\\mathbf{y}\\odot\\text{tanh}\\left(\\mathbf{W}\\mathbf{x}+\\mathbf{b}\\right)\\right]$  in PyTorch (i.e. without using PyTorch Autograd's `.backward`) using your derivation above."
      ]
    },
    {
      "cell_type": "code",
      "metadata": {
        "id": "EqIFSUV7yd6m"
      },
      "source": [
        "def bw(y, W, x, b, grad_output):\n",
        "  result = torch.diag(y * (1 - torch.tanh(torch.matmul(W, x) + b)**2))\n",
        "  result = grad_output.T.matmul(result.matmul(W))\n",
        "  return result"
      ],
      "execution_count": 9,
      "outputs": []
    },
    {
      "cell_type": "markdown",
      "metadata": {
        "id": "QvBLkJKhG6Rg"
      },
      "source": [
        "## SortBy PyTorch Autograd Function [10 points]"
      ]
    },
    {
      "cell_type": "markdown",
      "metadata": {
        "id": "ZsLf0kvGG9W4"
      },
      "source": [
        "Implement a PyTorch Autograd function `SortBy` which takes two inputs:\n",
        "- `x` is a matrix of size `m x n` \n",
        "- `s` is an accompanying vector of size `m`\n",
        "\n",
        "`SortBy` should sort the position of the row vectors in `x` using the accompanying scores in `s` in ascending order. For example, given\n",
        "$$\n",
        "\\begin{align}\n",
        "\\mathbf{X} &= \\left[\\begin{matrix}\n",
        "0.2 & -0.4 & 0.3\\\\\n",
        "1.2 & 2.3 & -2.1\\\\\n",
        "0.1 & -0.1 & 2\n",
        "\\end{matrix}\\right]\n",
        "&\\mathbf{s} &=\\left[\\begin{matrix}\n",
        "0.2\\\\\n",
        "-0.1\\\\\n",
        "3\n",
        "\\end{matrix}\\right]\n",
        "\\end{align}\n",
        "$$ the forward pass of `SortBy` should return\n",
        "$$\n",
        "\\mathbf{Y} = \\left[\\begin{matrix}\n",
        "1.2 & 2.3 & -2.1\\\\\n",
        "0.2 & -0.4 & 0.3\\\\\n",
        "0.1 & -0.1 & 2\n",
        "\\end{matrix}\\right]\n",
        "$$.\n",
        "\n",
        "Furthermore, given an upstream gradient `grad_output`  (i.e. a matrix of the same size as X), the backward pass of `SortBy` should calculate the gradient of `x`, effectively rerouting the gradient to the original position of the vectors before sorting. For example, if the first row vector of the upstream gradient  in our example above is a vector $\\mathbf{z}$, the gradient of `x` would have $\\mathbf{z}$ as its second row vector.\n",
        "\n",
        "Note that, `SortBy` will only be differentiable w.r.t. to x, and is not be differentiable w.r.t. the sorting procedure to provie a gradient for `s`. **You are not allowed to use any Python loops in your implementation. If you use Python loops for your solution, we will only give you half of the points!**\n",
        "\n",
        "Hints:\n",
        "- You are allowed to use `torch.sort` in your implementation of the forward pass.\n",
        "- Similarly to the example we had in the lecture, you can use the context `ctx` to save tensors on the forward pass that you might need to reuse on the backward pass."
      ]
    },
    {
      "cell_type": "code",
      "metadata": {
        "id": "Q-YgSz5uQI_Q"
      },
      "source": [
        "from torch.autograd import Function\n",
        "\n",
        "class SortBy(Function): \n",
        "  @staticmethod\n",
        "  def forward(ctx, x, s):\n",
        "    result = x[s.sort().indices]\n",
        "    ctx.save_for_backward(result, s)\n",
        "    return result\n",
        "  \n",
        "  @staticmethod\n",
        "  def backward(ctx, grad_output):\n",
        "    result, s = ctx.saved_tensors\n",
        "    return grad_output[s.sort().indices], None"
      ],
      "execution_count": 10,
      "outputs": []
    },
    {
      "cell_type": "markdown",
      "metadata": {
        "id": "a_BF7G3UHFcp"
      },
      "source": [
        "## Multiple Choice Quiz [10 points]\n",
        "\n",
        "Answer the following questions by selecting the correct most specific answer (or `None` in case all answers are wrong).\n",
        "\n",
        "1. Which of the following operations cannot be calculated using `@`?\n",
        "2. What is gradient checking for?\n",
        "3. Why don't we use the finite differences method of gradient checking to calculate gradients instead of using backpropagation?\n",
        "4. Which of the following operations cannot be expressed as a single einsum string?\n",
        "5. When should you prefer using `view` instead of `reshape`?\n",
        "6. Which of the following statements is true if you construct a PyTorch tensor from a NumPy array using `torch.from_numpy`?\n",
        "7. Which one is a sufficient condition for being able to broadcast an operation between two tensors?\n",
        "8. What is the difference between a torch.Tensor and a torch.nn.Parameter?\n",
        "9. Given a convex loss function and a sufficiently small learning rate, stochastic gradient descent is guaranteed to?\n",
        "10. Given a non-convex loss function and a very large learning rate, stochastic gradient descent is guaranteed to?"
      ]
    },
    {
      "cell_type": "code",
      "metadata": {
        "id": "cWbew_PsFG5u"
      },
      "source": [
        "#@title Answers { run: \"auto\" }\n",
        "Q1 = \"None of the above\" #@param [\"Matrix-matrix multiplication\", \"Matrix-vector multiplication\", \"Vector-vector multiplication\", \"Tensor-matrix multiplication\", \"Tensor-vector multiplication\", \"None of the above\"]\n",
        "Q2 = \"It tests whether the forward pass of a function is consistent with the backward pass\" #@param [\"It tests whether the forward pass of a function is consistent with the backward pass\", \"It is used at runtime to check for numerical instabilities in the backward pass\", \"It tests wether the function and its gradient have been implemented correctly\", \"It tests whether the norm of the gradients of a function are bounded\", \"None of the above\"]\n",
        "Q3 = \"It would be too slow\" #@param [\"It cannot be used to approximate the gradient accurately enough\", \"It can only be used to calculate the gradient of single functions and not for chained functions which are commonly used in deep learning models\", \"It would be too slow\", \"None of the above\"]\n",
        "Q4 = \"None of the above\" #@param [\"The transpose of an order-three tensor\", \"The sum of the diagonal of a square matrix\", \"The outer product of two matrices\", \"None of the above\"]\n",
        "Q5 = \"When the tensor is contiguous\" #@param [\"When the tensor is non-contiguous\", \"When the tensor is contiguous\", \"None of the above\"]\n",
        "Q6 = \"They point to the same memory and altering one will change the other\" #@param [\"Gradients can be calculated using both, the PyTorch tensor and the NumPy array\", \"They point to the same memory and altering one will change the other\", \"The PyTorch tensor cannot be mapped back to a NumPy array\", \"None of the above\"]\n",
        "Q7 = \"One of the two tensors is a scalar\" #@param [\"One of the two tensors is a scalar\", \"One of the tensors has a singleton dimension\", \"The two tensors have the same number of dimensions\", \"None of the above\"]\n",
        "Q8 = \"Parameters get associated with a model when assigned to a member of the model's modules\" #@param [\"Parameters are mutable and tensors are not\", \"Parameters get associated with a model when assigned to a member of the model's modules\", \"Parameters need to be flattened into vectors whereas tensors can be high-dimensional\", \"None of the above\"]\n",
        "Q9 = \"All of the above\" #@param [\"Find a local optimum\", \"Find the global optimum\", \"All of the above\", \"None of the above\"]\n",
        "Q10 = \"None of the above\" #@param [\"Find a local optimum\", \"Find the global optimum\", \"Converge to a saddle point\", \"All of the above\", \"None of the above\"]"
      ],
      "execution_count": 11,
      "outputs": []
    },
    {
      "cell_type": "markdown",
      "metadata": {
        "id": "YZwY626nGlbb"
      },
      "source": [
        "# Part II: Feature Engineering [50 points]\n",
        "\n",
        "In this section you will develop a logistic regression model for sentiment prediction.  \n",
        "\n",
        "## Setup \n",
        "First we download the [sentence polarity dataset v1.0](http://www.cs.cornell.edu/people/pabo/movie-review-data/rt-polaritydata.tar.gz) from this [website](http://www.cs.cornell.edu/people/pabo/movie-review-data/) using a few shell commands. "
      ]
    },
    {
      "cell_type": "code",
      "metadata": {
        "id": "qwR7cadCuLD3",
        "colab": {
          "base_uri": "https://localhost:8080/"
        },
        "outputId": "b19eba02-32cc-4547-b16e-11c96dd48eeb"
      },
      "source": [
        "%%shell\n",
        "wget http://www.cs.cornell.edu/People/pabo/movie-review-data/rt-polaritydata.tar.gz\n",
        "tar -xzf rt-polaritydata.tar.gz\n",
        "mv rt-polaritydata.README.1.0.txt rt-polaritydata\n",
        "cd rt-polaritydata\n",
        "iconv -f cp1252 -t utf-8 < rt-polarity.neg > rt-polarity.neg.utf8\n",
        "iconv -f cp1252 -t utf-8 < rt-polarity.pos > rt-polarity.pos.utf8\n",
        "perl -ne 'print \"neg\\t\" . $_' <  rt-polarity.neg.utf8 > rt-polarity.neg.utf8.tsv\n",
        "perl -ne 'print \"pos\\t\" . $_' <  rt-polarity.pos.utf8 > rt-polarity.pos.utf8.tsv\n",
        "cat rt-polarity.neg.utf8.tsv rt-polarity.pos.utf8.tsv > rt-polarity.utf8.tsv"
      ],
      "execution_count": 12,
      "outputs": [
        {
          "output_type": "stream",
          "text": [
            "--2021-02-01 20:55:00--  http://www.cs.cornell.edu/People/pabo/movie-review-data/rt-polaritydata.tar.gz\n",
            "Resolving www.cs.cornell.edu (www.cs.cornell.edu)... 132.236.207.36\n",
            "Connecting to www.cs.cornell.edu (www.cs.cornell.edu)|132.236.207.36|:80... connected.\n",
            "HTTP request sent, awaiting response... 301 Moved Permanently\n",
            "Location: http://www.cs.cornell.edu/people/pabo/movie-review-data/rt-polaritydata.tar.gz [following]\n",
            "--2021-02-01 20:55:01--  http://www.cs.cornell.edu/people/pabo/movie-review-data/rt-polaritydata.tar.gz\n",
            "Reusing existing connection to www.cs.cornell.edu:80.\n",
            "HTTP request sent, awaiting response... 200 OK\n",
            "Length: 487770 (476K) [application/x-gzip]\n",
            "Saving to: ‘rt-polaritydata.tar.gz.5’\n",
            "\n",
            "rt-polaritydata.tar 100%[===================>] 476.34K  2.45MB/s    in 0.2s    \n",
            "\n",
            "2021-02-01 20:55:01 (2.45 MB/s) - ‘rt-polaritydata.tar.gz.5’ saved [487770/487770]\n",
            "\n"
          ],
          "name": "stdout"
        },
        {
          "output_type": "execute_result",
          "data": {
            "text/plain": [
              ""
            ]
          },
          "metadata": {
            "tags": []
          },
          "execution_count": 12
        }
      ]
    },
    {
      "cell_type": "markdown",
      "metadata": {
        "id": "h2MTMQSMWPr9"
      },
      "source": [
        "Now we install [AllenNLP](https://allennlp.org/)."
      ]
    },
    {
      "cell_type": "code",
      "metadata": {
        "id": "lf64vki1zt0k",
        "colab": {
          "base_uri": "https://localhost:8080/"
        },
        "outputId": "c75935a5-7de9-4dae-db5c-d44054fc971e"
      },
      "source": [
        "%%shell\n",
        "pip install allennlp==0.9"
      ],
      "execution_count": 13,
      "outputs": [
        {
          "output_type": "stream",
          "text": [
            "Requirement already satisfied: allennlp==0.9 in /usr/local/lib/python3.6/dist-packages (0.9.0)\n",
            "Requirement already satisfied: numpydoc>=0.8.0 in /usr/local/lib/python3.6/dist-packages (from allennlp==0.9) (1.1.0)\n",
            "Requirement already satisfied: boto3 in /usr/local/lib/python3.6/dist-packages (from allennlp==0.9) (1.16.63)\n",
            "Requirement already satisfied: flask-cors>=3.0.7 in /usr/local/lib/python3.6/dist-packages (from allennlp==0.9) (3.0.10)\n",
            "Requirement already satisfied: scipy in /usr/local/lib/python3.6/dist-packages (from allennlp==0.9) (1.4.1)\n",
            "Requirement already satisfied: tensorboardX>=1.2 in /usr/local/lib/python3.6/dist-packages (from allennlp==0.9) (2.1)\n",
            "Requirement already satisfied: tqdm>=4.19 in /usr/local/lib/python3.6/dist-packages (from allennlp==0.9) (4.41.1)\n",
            "Requirement already satisfied: conllu==1.3.1 in /usr/local/lib/python3.6/dist-packages (from allennlp==0.9) (1.3.1)\n",
            "Requirement already satisfied: pytorch-pretrained-bert>=0.6.0 in /usr/local/lib/python3.6/dist-packages (from allennlp==0.9) (0.6.2)\n",
            "Requirement already satisfied: numpy in /usr/local/lib/python3.6/dist-packages (from allennlp==0.9) (1.19.5)\n",
            "Requirement already satisfied: flask>=1.0.2 in /usr/local/lib/python3.6/dist-packages (from allennlp==0.9) (1.1.2)\n",
            "Requirement already satisfied: scikit-learn in /usr/local/lib/python3.6/dist-packages (from allennlp==0.9) (0.22.2.post1)\n",
            "Requirement already satisfied: word2number>=1.1 in /usr/local/lib/python3.6/dist-packages (from allennlp==0.9) (1.1)\n",
            "Requirement already satisfied: overrides in /usr/local/lib/python3.6/dist-packages (from allennlp==0.9) (3.1.0)\n",
            "Requirement already satisfied: sqlparse>=0.2.4 in /usr/local/lib/python3.6/dist-packages (from allennlp==0.9) (0.4.1)\n",
            "Requirement already satisfied: responses>=0.7 in /usr/local/lib/python3.6/dist-packages (from allennlp==0.9) (0.12.1)\n",
            "Requirement already satisfied: jsonpickle in /usr/local/lib/python3.6/dist-packages (from allennlp==0.9) (1.5.1)\n",
            "Requirement already satisfied: jsonnet>=0.10.0; sys_platform != \"win32\" in /usr/local/lib/python3.6/dist-packages (from allennlp==0.9) (0.17.0)\n",
            "Requirement already satisfied: gevent>=1.3.6 in /usr/local/lib/python3.6/dist-packages (from allennlp==0.9) (21.1.2)\n",
            "Requirement already satisfied: h5py in /usr/local/lib/python3.6/dist-packages (from allennlp==0.9) (2.10.0)\n",
            "Requirement already satisfied: spacy<2.2,>=2.1.0 in /usr/local/lib/python3.6/dist-packages (from allennlp==0.9) (2.1.9)\n",
            "Requirement already satisfied: ftfy in /usr/local/lib/python3.6/dist-packages (from allennlp==0.9) (5.8)\n",
            "Requirement already satisfied: nltk in /usr/local/lib/python3.6/dist-packages (from allennlp==0.9) (3.2.5)\n",
            "Requirement already satisfied: matplotlib>=2.2.3 in /usr/local/lib/python3.6/dist-packages (from allennlp==0.9) (3.2.2)\n",
            "Requirement already satisfied: flaky in /usr/local/lib/python3.6/dist-packages (from allennlp==0.9) (3.7.0)\n",
            "Requirement already satisfied: unidecode in /usr/local/lib/python3.6/dist-packages (from allennlp==0.9) (1.1.2)\n",
            "Requirement already satisfied: torch>=1.2.0 in /usr/local/lib/python3.6/dist-packages (from allennlp==0.9) (1.7.0+cu101)\n",
            "Requirement already satisfied: pytest in /usr/local/lib/python3.6/dist-packages (from allennlp==0.9) (3.6.4)\n",
            "Requirement already satisfied: editdistance in /usr/local/lib/python3.6/dist-packages (from allennlp==0.9) (0.5.3)\n",
            "Requirement already satisfied: pytz>=2017.3 in /usr/local/lib/python3.6/dist-packages (from allennlp==0.9) (2018.9)\n",
            "Requirement already satisfied: requests>=2.18 in /usr/local/lib/python3.6/dist-packages (from allennlp==0.9) (2.23.0)\n",
            "Requirement already satisfied: pytorch-transformers==1.1.0 in /usr/local/lib/python3.6/dist-packages (from allennlp==0.9) (1.1.0)\n",
            "Requirement already satisfied: parsimonious>=0.8.0 in /usr/local/lib/python3.6/dist-packages (from allennlp==0.9) (0.8.1)\n",
            "Requirement already satisfied: sphinx>=1.6.5 in /usr/local/lib/python3.6/dist-packages (from numpydoc>=0.8.0->allennlp==0.9) (1.8.5)\n",
            "Requirement already satisfied: Jinja2>=2.3 in /usr/local/lib/python3.6/dist-packages (from numpydoc>=0.8.0->allennlp==0.9) (2.11.2)\n",
            "Requirement already satisfied: botocore<1.20.0,>=1.19.63 in /usr/local/lib/python3.6/dist-packages (from boto3->allennlp==0.9) (1.19.63)\n",
            "Requirement already satisfied: jmespath<1.0.0,>=0.7.1 in /usr/local/lib/python3.6/dist-packages (from boto3->allennlp==0.9) (0.10.0)\n",
            "Requirement already satisfied: s3transfer<0.4.0,>=0.3.0 in /usr/local/lib/python3.6/dist-packages (from boto3->allennlp==0.9) (0.3.4)\n",
            "Requirement already satisfied: Six in /usr/local/lib/python3.6/dist-packages (from flask-cors>=3.0.7->allennlp==0.9) (1.15.0)\n",
            "Requirement already satisfied: protobuf>=3.8.0 in /usr/local/lib/python3.6/dist-packages (from tensorboardX>=1.2->allennlp==0.9) (3.12.4)\n",
            "Requirement already satisfied: regex in /usr/local/lib/python3.6/dist-packages (from pytorch-pretrained-bert>=0.6.0->allennlp==0.9) (2019.12.20)\n",
            "Requirement already satisfied: itsdangerous>=0.24 in /usr/local/lib/python3.6/dist-packages (from flask>=1.0.2->allennlp==0.9) (1.1.0)\n",
            "Requirement already satisfied: Werkzeug>=0.15 in /usr/local/lib/python3.6/dist-packages (from flask>=1.0.2->allennlp==0.9) (1.0.1)\n",
            "Requirement already satisfied: click>=5.1 in /usr/local/lib/python3.6/dist-packages (from flask>=1.0.2->allennlp==0.9) (7.1.2)\n",
            "Requirement already satisfied: joblib>=0.11 in /usr/local/lib/python3.6/dist-packages (from scikit-learn->allennlp==0.9) (1.0.0)\n",
            "Requirement already satisfied: urllib3>=1.25.10 in /usr/local/lib/python3.6/dist-packages (from responses>=0.7->allennlp==0.9) (1.25.11)\n",
            "Requirement already satisfied: importlib-metadata; python_version < \"3.8\" in /usr/local/lib/python3.6/dist-packages (from jsonpickle->allennlp==0.9) (3.4.0)\n",
            "Requirement already satisfied: setuptools in /usr/local/lib/python3.6/dist-packages (from gevent>=1.3.6->allennlp==0.9) (51.3.3)\n",
            "Requirement already satisfied: zope.event in /usr/local/lib/python3.6/dist-packages (from gevent>=1.3.6->allennlp==0.9) (4.5.0)\n",
            "Requirement already satisfied: greenlet<2.0,>=0.4.17; platform_python_implementation == \"CPython\" in /usr/local/lib/python3.6/dist-packages (from gevent>=1.3.6->allennlp==0.9) (1.0.0)\n",
            "Requirement already satisfied: zope.interface in /usr/local/lib/python3.6/dist-packages (from gevent>=1.3.6->allennlp==0.9) (5.2.0)\n",
            "Requirement already satisfied: blis<0.3.0,>=0.2.2 in /usr/local/lib/python3.6/dist-packages (from spacy<2.2,>=2.1.0->allennlp==0.9) (0.2.4)\n",
            "Requirement already satisfied: srsly<1.1.0,>=0.0.6 in /usr/local/lib/python3.6/dist-packages (from spacy<2.2,>=2.1.0->allennlp==0.9) (1.0.5)\n",
            "Requirement already satisfied: plac<1.0.0,>=0.9.6 in /usr/local/lib/python3.6/dist-packages (from spacy<2.2,>=2.1.0->allennlp==0.9) (0.9.6)\n",
            "Requirement already satisfied: preshed<2.1.0,>=2.0.1 in /usr/local/lib/python3.6/dist-packages (from spacy<2.2,>=2.1.0->allennlp==0.9) (2.0.1)\n",
            "Requirement already satisfied: murmurhash<1.1.0,>=0.28.0 in /usr/local/lib/python3.6/dist-packages (from spacy<2.2,>=2.1.0->allennlp==0.9) (1.0.5)\n",
            "Requirement already satisfied: wasabi<1.1.0,>=0.2.0 in /usr/local/lib/python3.6/dist-packages (from spacy<2.2,>=2.1.0->allennlp==0.9) (0.8.1)\n",
            "Requirement already satisfied: cymem<2.1.0,>=2.0.2 in /usr/local/lib/python3.6/dist-packages (from spacy<2.2,>=2.1.0->allennlp==0.9) (2.0.5)\n",
            "Requirement already satisfied: thinc<7.1.0,>=7.0.8 in /usr/local/lib/python3.6/dist-packages (from spacy<2.2,>=2.1.0->allennlp==0.9) (7.0.8)\n",
            "Requirement already satisfied: wcwidth in /usr/local/lib/python3.6/dist-packages (from ftfy->allennlp==0.9) (0.2.5)\n",
            "Requirement already satisfied: python-dateutil>=2.1 in /usr/local/lib/python3.6/dist-packages (from matplotlib>=2.2.3->allennlp==0.9) (2.8.1)\n",
            "Requirement already satisfied: kiwisolver>=1.0.1 in /usr/local/lib/python3.6/dist-packages (from matplotlib>=2.2.3->allennlp==0.9) (1.3.1)\n",
            "Requirement already satisfied: pyparsing!=2.0.4,!=2.1.2,!=2.1.6,>=2.0.1 in /usr/local/lib/python3.6/dist-packages (from matplotlib>=2.2.3->allennlp==0.9) (2.4.7)\n",
            "Requirement already satisfied: cycler>=0.10 in /usr/local/lib/python3.6/dist-packages (from matplotlib>=2.2.3->allennlp==0.9) (0.10.0)\n",
            "Requirement already satisfied: dataclasses in /usr/local/lib/python3.6/dist-packages (from torch>=1.2.0->allennlp==0.9) (0.8)\n",
            "Requirement already satisfied: future in /usr/local/lib/python3.6/dist-packages (from torch>=1.2.0->allennlp==0.9) (0.16.0)\n",
            "Requirement already satisfied: typing-extensions in /usr/local/lib/python3.6/dist-packages (from torch>=1.2.0->allennlp==0.9) (3.7.4.3)\n",
            "Requirement already satisfied: atomicwrites>=1.0 in /usr/local/lib/python3.6/dist-packages (from pytest->allennlp==0.9) (1.4.0)\n",
            "Requirement already satisfied: py>=1.5.0 in /usr/local/lib/python3.6/dist-packages (from pytest->allennlp==0.9) (1.10.0)\n",
            "Requirement already satisfied: attrs>=17.4.0 in /usr/local/lib/python3.6/dist-packages (from pytest->allennlp==0.9) (20.3.0)\n",
            "Requirement already satisfied: pluggy<0.8,>=0.5 in /usr/local/lib/python3.6/dist-packages (from pytest->allennlp==0.9) (0.7.1)\n",
            "Requirement already satisfied: more-itertools>=4.0.0 in /usr/local/lib/python3.6/dist-packages (from pytest->allennlp==0.9) (8.6.0)\n",
            "Requirement already satisfied: idna<3,>=2.5 in /usr/local/lib/python3.6/dist-packages (from requests>=2.18->allennlp==0.9) (2.10)\n",
            "Requirement already satisfied: chardet<4,>=3.0.2 in /usr/local/lib/python3.6/dist-packages (from requests>=2.18->allennlp==0.9) (3.0.4)\n",
            "Requirement already satisfied: certifi>=2017.4.17 in /usr/local/lib/python3.6/dist-packages (from requests>=2.18->allennlp==0.9) (2020.12.5)\n",
            "Requirement already satisfied: sentencepiece in /usr/local/lib/python3.6/dist-packages (from pytorch-transformers==1.1.0->allennlp==0.9) (0.1.95)\n",
            "Requirement already satisfied: packaging in /usr/local/lib/python3.6/dist-packages (from sphinx>=1.6.5->numpydoc>=0.8.0->allennlp==0.9) (20.8)\n",
            "Requirement already satisfied: docutils>=0.11 in /usr/local/lib/python3.6/dist-packages (from sphinx>=1.6.5->numpydoc>=0.8.0->allennlp==0.9) (0.16)\n",
            "Requirement already satisfied: babel!=2.0,>=1.3 in /usr/local/lib/python3.6/dist-packages (from sphinx>=1.6.5->numpydoc>=0.8.0->allennlp==0.9) (2.9.0)\n",
            "Requirement already satisfied: snowballstemmer>=1.1 in /usr/local/lib/python3.6/dist-packages (from sphinx>=1.6.5->numpydoc>=0.8.0->allennlp==0.9) (2.1.0)\n",
            "Requirement already satisfied: alabaster<0.8,>=0.7 in /usr/local/lib/python3.6/dist-packages (from sphinx>=1.6.5->numpydoc>=0.8.0->allennlp==0.9) (0.7.12)\n",
            "Requirement already satisfied: imagesize in /usr/local/lib/python3.6/dist-packages (from sphinx>=1.6.5->numpydoc>=0.8.0->allennlp==0.9) (1.2.0)\n",
            "Requirement already satisfied: sphinxcontrib-websupport in /usr/local/lib/python3.6/dist-packages (from sphinx>=1.6.5->numpydoc>=0.8.0->allennlp==0.9) (1.2.4)\n",
            "Requirement already satisfied: Pygments>=2.0 in /usr/local/lib/python3.6/dist-packages (from sphinx>=1.6.5->numpydoc>=0.8.0->allennlp==0.9) (2.6.1)\n",
            "Requirement already satisfied: MarkupSafe>=0.23 in /usr/local/lib/python3.6/dist-packages (from Jinja2>=2.3->numpydoc>=0.8.0->allennlp==0.9) (1.1.1)\n",
            "Requirement already satisfied: zipp>=0.5 in /usr/local/lib/python3.6/dist-packages (from importlib-metadata; python_version < \"3.8\"->jsonpickle->allennlp==0.9) (3.4.0)\n",
            "Requirement already satisfied: sphinxcontrib-serializinghtml in /usr/local/lib/python3.6/dist-packages (from sphinxcontrib-websupport->sphinx>=1.6.5->numpydoc>=0.8.0->allennlp==0.9) (1.1.4)\n"
          ],
          "name": "stdout"
        },
        {
          "output_type": "execute_result",
          "data": {
            "text/plain": [
              ""
            ]
          },
          "metadata": {
            "tags": []
          },
          "execution_count": 13
        }
      ]
    },
    {
      "cell_type": "markdown",
      "metadata": {
        "id": "bDkhShc8WX9F"
      },
      "source": [
        "Next we implement a AllenNLP data loader for this data. "
      ]
    },
    {
      "cell_type": "code",
      "metadata": {
        "id": "34_HDMys1sLg"
      },
      "source": [
        "from typing import Iterator, List, Dict, Optional\n",
        "import torch\n",
        "import torch.optim as optim\n",
        "import numpy as np\n",
        "from allennlp.data import Instance\n",
        "from allennlp.data.fields import TextField, SequenceLabelField, LabelField\n",
        "from allennlp.data.dataset_readers import DatasetReader\n",
        "from allennlp.common.file_utils import cached_path\n",
        "from allennlp.data.token_indexers import TokenIndexer, SingleIdTokenIndexer\n",
        "from allennlp.data.tokenizers import Token\n",
        "from allennlp.data.vocabulary import Vocabulary\n",
        "from allennlp.models import Model\n",
        "from allennlp.modules.text_field_embedders import TextFieldEmbedder, BasicTextFieldEmbedder\n",
        "from allennlp.modules.token_embedders import Embedding\n",
        "from allennlp.modules.seq2seq_encoders import Seq2SeqEncoder, PytorchSeq2SeqWrapper\n",
        "from allennlp.nn.util import get_text_field_mask, sequence_cross_entropy_with_logits\n",
        "from allennlp.training.metrics import CategoricalAccuracy\n",
        "from allennlp.data.iterators import BucketIterator\n",
        "from allennlp.training.trainer import Trainer\n",
        "from allennlp.predictors import SentenceTaggerPredictor\n",
        "\n",
        "class PolarityDatasetReader(DatasetReader):\n",
        "    \"\"\"\n",
        "    DatasetReader for polarity data like \n",
        "\n",
        "        neg\\tI had better gone to Imperial\n",
        "    \"\"\"\n",
        "    def __init__(self, token_indexers: Dict[str, TokenIndexer] = None,\n",
        "                 tokenize_and_preprocess = lambda text: text.split(\" \")) -> None:\n",
        "        super().__init__(lazy=False)\n",
        "        self.token_indexers = token_indexers or {\"tokens\": SingleIdTokenIndexer()}\n",
        "        self.tokenize_and_preprocess = tokenize_and_preprocess\n",
        "\n",
        "    def text_to_instance(self, tokens: List[Token], label: Optional[str] = None) -> Instance:\n",
        "        sentence_field = TextField(tokens, self.token_indexers)\n",
        "        fields = {\"sentence\": sentence_field}\n",
        "\n",
        "        if label:\n",
        "            label_field = LabelField(label=label)\n",
        "            fields[\"label\"] = label_field\n",
        "\n",
        "        return Instance(fields)\n",
        "\n",
        "    def _tokenize_and_preprocess(text):\n",
        "        return text.split(\" \")\n",
        "\n",
        "    def _read(self, file_path: str) -> Iterator[Instance]:\n",
        "        with open(file_path) as f:\n",
        "            for line in f:\n",
        "                label, text = line.split(\"\\t\")\n",
        "                tokens = [Token(word) for word in self.tokenize_and_preprocess(text)]\n",
        "                yield self.text_to_instance(tokens, label)\n",
        "\n",
        "\n"
      ],
      "execution_count": 14,
      "outputs": []
    },
    {
      "cell_type": "markdown",
      "metadata": {
        "id": "isDjFO7LXYf-"
      },
      "source": [
        "# Preprocessing [7pts]\n",
        "\n",
        "In order to fit our model, we will need to tokenize and preprocess the data. Write a dataset loader that preprocesses the data.\n",
        "\n",
        "Tokenization is an important field of NLP, and can make a large difference to downstream performance. Luckily fo us, the dataset has already been tokenized, so we just need to split the input text by whitespace to get the tokens. The tokenization is not perfect though. Your preprocessing function should should fix all instances where \"Mr.\" have been tokenized as two tokens to instances where \"Mr.\" is a single token.\n",
        "\n",
        "Implement the above by changing and possibly extending the code below."
      ]
    },
    {
      "cell_type": "code",
      "metadata": {
        "id": "3As4zBmSyZhW",
        "colab": {
          "base_uri": "https://localhost:8080/"
        },
        "outputId": "cd31ed19-4001-4fbe-b11d-4516a32983c8"
      },
      "source": [
        "def collapse_mr_dot(text):\n",
        "    \"\"\"\n",
        "    Args:\n",
        "      tokens: a list of tokens\n",
        "    \"\"\"\n",
        "    result = []\n",
        "    text = text.lower()\n",
        "    text = text.replace(\"mr .\", \"mr.\")\n",
        "    text = text.replace(\"mr  .\", \"mr.\")\n",
        "    result = text.split(\" \")    \n",
        "    return result\n",
        "\n",
        "torch.manual_seed(1)\n",
        "reader = PolarityDatasetReader(tokenize_and_preprocess=collapse_mr_dot)\n",
        "data_pre = reader.read(cached_path(\"rt-polaritydata/rt-polarity.utf8.tsv\"))\n",
        "rt_polarity_pre = data_pre\n",
        "for instance in data_pre:\n",
        "  if \"mr.\" in [t.text for t in instance['sentence']]:\n",
        "    print(instance['sentence'][:])\n",
        "    break"
      ],
      "execution_count": 15,
      "outputs": [
        {
          "output_type": "stream",
          "text": [
            "10662it [00:00, 12869.69it/s]"
          ],
          "name": "stderr"
        },
        {
          "output_type": "stream",
          "text": [
            "[as, is, often, the, case, with, ambitious, ,, eager, first-time, filmmakers, ,, mr., murray, ,, a, prolific, director, of, music, videos, ,, stuffs, his, debut, with, more, plot, than, it, can, comfortably, hold, ., \n",
            "]\n"
          ],
          "name": "stdout"
        },
        {
          "output_type": "stream",
          "text": [
            "\n"
          ],
          "name": "stderr"
        }
      ]
    },
    {
      "cell_type": "markdown",
      "metadata": {
        "id": "I-JYoGSCDjuj"
      },
      "source": [
        "## Logistic Regression\n",
        "\n",
        "Below we provide a simple implementation of a model, that combined with the corresponding loss, amounts to logistic regression.  "
      ]
    },
    {
      "cell_type": "code",
      "metadata": {
        "id": "cBogFeKugF0v"
      },
      "source": [
        "import torch\n",
        "import torch.nn as nn\n",
        "\n",
        "# Model\n",
        "class LogisticRegression(nn.Module):\n",
        "    \"\"\"\n",
        "    Simple Logistic Regression implementation based on torchtext input format.\n",
        "    \"\"\"\n",
        "    def __init__(self, num_features):\n",
        "        super(LogisticRegression, self).__init__()\n",
        "        self.weights = nn.Parameter(torch.normal(torch.zeros(num_features)), \n",
        "                                requires_grad=True)\n",
        "            \n",
        "    def forward(self, sentence):\n",
        "        \"\"\"\n",
        "        Args:\n",
        "          sentence: a dictionary of ...\n",
        "        \"\"\"\n",
        "        tokens = sentence['tokens']\n",
        "        active_tokens_mask = get_text_field_mask(sentence)\n",
        "        # retrieve weights and set those to zero that come from padding cells \n",
        "        filtered = active_tokens_mask * self.weights[tokens]\n",
        "        # sum pooling along the token position dimension \n",
        "        logits = filtered.sum(dim=1)\n",
        "        return logits\n",
        "\n",
        "\n",
        "# model = LogisticRegression(vocab.get_vocab_size(\"tokens\"))\n",
        "# model.forward(sentence)"
      ],
      "execution_count": 16,
      "outputs": []
    },
    {
      "cell_type": "markdown",
      "metadata": {
        "id": "ZKGwAaYEEm0-"
      },
      "source": [
        "## Formulation [5pts]\n",
        "\n",
        "In the class we have presented the model as encoder $f(\\mathbf{x})$ follwed by a linear decoder\n",
        "$$s(\\mathbf{x}) = \\boldsymbol{\\theta}^T  f(\\mathbf{x}) = \\boldsymbol{\\theta}^T \\sum_{w\\in \\mathbf{x}} f(w) $$ where $f(\\mathbf{x})$ is the representation of the input text. \n",
        "\n",
        "The implementation here achieves the same output, but the calculation is performed slightly differently due to technical reasons when working with pytorch. Can you give a mathematical description of this implementation here that captures the order in which computation happens? Below $f(w)$ is a one-hot representation of a word, as per lecture 2. \n",
        "\n",
        "The candidate answers are:\n",
        "\n",
        "1. $s(\\mathbf{x}) = \\left[\\sum_{w\\in \\mathbf{x}}  f(w)  \\right]^T \\boldsymbol{\\theta} $\n",
        "2. $s(\\mathbf{x}) = \\sum_{w\\in \\mathbf{x}}  \\boldsymbol{\\theta}^T f(w)$\n",
        "3. $s(\\mathbf{x}) = \\frac{1}{|\\mathbf{x}|}\\boldsymbol{\\theta}^T \\sum_{\\mathbf{x}\\in x}  f(w)$\n",
        "4. $s(\\mathbf{x}) = \\left[\\sum_{w\\in \\mathbf{x}}  f(w)  \\right]^T \\boldsymbol{\\theta} \\frac{1}{|\\mathbf{x}|} $"
      ]
    },
    {
      "cell_type": "code",
      "metadata": {
        "id": "FjKT0eJzvyw8"
      },
      "source": [
        "#@title Answers { run: \"auto\" }\n",
        "QFormulation = \"Eq 2\" #@param [\"Eq 1\", \"Eq 2\", \"Eq 3\", \"Eq 4\", \"None of the above\"]"
      ],
      "execution_count": 17,
      "outputs": []
    },
    {
      "cell_type": "markdown",
      "metadata": {
        "id": "Co0lv5gyMKaW"
      },
      "source": [
        "The code is doing a dot product between active_tokens_mask and weights[tokens]. This is not considered in the formulations above so I considered answering \"None of the above\" too. Given the question is asking us to focus on the order of the operations Eq 2 seems more likely."
      ]
    },
    {
      "cell_type": "markdown",
      "metadata": {
        "id": "J9ybvSIOFiLR"
      },
      "source": [
        "## Mean Pooling [8pts]\n",
        "\n",
        "Create a new version of the logistic regression module, using mean pooling. "
      ]
    },
    {
      "cell_type": "code",
      "metadata": {
        "id": "IPYSGdhmFpQH"
      },
      "source": [
        "# Model\n",
        "class LogisticRegressionMeanPooling(nn.Module):\n",
        "    \"\"\"\n",
        "    Simple Logistic Regression implementation based on torchtext input format.\n",
        "    \"\"\"\n",
        "    def __init__(self, num_features):\n",
        "        super(LogisticRegressionMeanPooling, self).__init__()\n",
        "        self.weights = nn.Parameter(torch.normal(torch.zeros(num_features)), \n",
        "                                requires_grad=True)\n",
        "            \n",
        "    def forward(self, sentence):\n",
        "        \"\"\"\n",
        "        Args:\n",
        "          sentence: a dictionary of ...\n",
        "        \"\"\"\n",
        "        tokens = sentence['tokens']\n",
        "        active_tokens_mask = get_text_field_mask(sentence)\n",
        "        # retrieve weights and set those to zero that come from padding cells \n",
        "        filtered = active_tokens_mask * self.weights[tokens]\n",
        "        # sum pooling along the token position dimension \n",
        "        logits = filtered.sum(dim=1)\n",
        "        # Get the number of words for each sentence\n",
        "        n = active_tokens_mask.sum(dim=1)\n",
        "        # Divide by the number of words\n",
        "        mean_logits = logits/n\n",
        "        \n",
        "        return mean_logits\n"
      ],
      "execution_count": 18,
      "outputs": []
    },
    {
      "cell_type": "markdown",
      "metadata": {
        "id": "XU9QcbnWG6PK"
      },
      "source": [
        "## Add Features [20pts]\n",
        "\n",
        "Add the features below to the preprocessing pipeline shown below. \n",
        "\n",
        "### Bias Feature [6 pts]\n",
        "\n",
        "It is common practice to add a *bias* term of linear classifiers:\n",
        "\n",
        "$$s(\\mathbf{x}) = \\boldsymbol{\\theta}^T  f(\\mathbf{x}) + b $$\n",
        "\n",
        "One way to achieve this in general is to augment $f(\\mathbf{x}) $ with an extra component that is always set to $1$. In our implementation, this can be achieved by augmenting the sentence field appropriately when loading the data, and setting the `add_features` argument in the dataset loader. Implement this below.  \n",
        "\n",
        "### Bigram Feature [7 pts]\n",
        "\n",
        "Use the `add_features` pipeline to implement a feature that captures whether word *pairs* $w_1, w_2$ appear consecutively in the sentence.  This feature should be *combined* with the standard unigram and bias features.   \n",
        "\n",
        "### Max Pooling [7 pts]\n",
        "\n",
        "Use the `add_features` pipeline to implement max pooling such that any feature appearing more than once in the sentence is only counted once, as per the lecture slides of week 1. "
      ]
    },
    {
      "cell_type": "code",
      "metadata": {
        "id": "nmLgBoZFHms6",
        "colab": {
          "base_uri": "https://localhost:8080/"
        },
        "outputId": "bc061cd0-137a-425d-9e81-947882a09db0"
      },
      "source": [
        "def add_features(text):\n",
        "  \"\"\"\n",
        "  Args:\n",
        "    features: a list of tokens\n",
        "  \"\"\"\n",
        "  # TODO implement this function based on instructions above. \n",
        "  toks = text.split(\" \")\n",
        "\n",
        "  # Biagram\n",
        "  sentence_len = len(toks)\n",
        "  for i in range(sentence_len - 1):\n",
        "    toks.append(toks[i] + ' ' + toks[i + 1])\n",
        "\n",
        "  # Bias Feature\n",
        "  toks.append('--ciao--')\n",
        "\n",
        "  # Max Pooling\n",
        "  unique_toks = list(dict.fromkeys(toks))\n",
        "  result = list(unique_toks)\n",
        "\n",
        "  return result\n",
        "\n",
        "reader = PolarityDatasetReader(tokenize_and_preprocess=add_features)\n",
        "data_pre_2 = reader.read(cached_path(\"rt-polaritydata/rt-polarity.utf8.tsv\"))\n",
        "data_pre_2[10]['sentence'][:]"
      ],
      "execution_count": 19,
      "outputs": [
        {
          "output_type": "stream",
          "text": [
            "10662it [00:01, 9237.31it/s]\n"
          ],
          "name": "stderr"
        },
        {
          "output_type": "execute_result",
          "data": {
            "text/plain": [
              "[a,\n",
              " sentimental,\n",
              " mess,\n",
              " that,\n",
              " never,\n",
              " rings,\n",
              " true,\n",
              " .,\n",
              " \n",
              ",\n",
              " a sentimental,\n",
              " sentimental mess,\n",
              " mess that,\n",
              " that never,\n",
              " never rings,\n",
              " rings true,\n",
              " true .,\n",
              " . \n",
              ",\n",
              " --ciao--]"
            ]
          },
          "metadata": {
            "tags": []
          },
          "execution_count": 19
        }
      ]
    },
    {
      "cell_type": "markdown",
      "metadata": {
        "id": "sy8JnMkZJQEw"
      },
      "source": [
        "## Hyperparameters Search and Analysis [10 pts]\n",
        "\n",
        "### Early Stopping [5pts]\n",
        "\n",
        "Finding the right number of iterations is important (why can running to convergence be bad?). One way to to do this is to iterate for a max number K, and then choose the iteration with the largest dev set performance. But this can be slow and unnecessary if we assume that dev-set performance doesn't go up again once it starts to go down (dev set performance concave). Implement a variant of the training loop that implements this idea.  Specifically, the loop should terminate if there has been no increase in development set accuracy when comparing the current accuracy to that from 10 epochs ago. \n",
        "\n",
        "### Grid Search [5pts]\n",
        "Using all the features you developed in the above \"Add Features\" section (or the base model in case you could not address the question), find the best combination of \n",
        "\n",
        "* Learning Rate in {1.0, 0.1}\n",
        "* Number of Training epochs (via early stopping, use 1000 as maximum)\n",
        "* L2 regularisation weight in {0.001, 0.0001, 0}\n",
        "\n",
        "After grid search, the value of the variables `best_acc`, `best_l2`, `best_lr` and `best_epochs` should be appropriately. \n"
      ]
    },
    {
      "cell_type": "code",
      "metadata": {
        "id": "uwHMvGhWo6ej",
        "colab": {
          "base_uri": "https://localhost:8080/"
        },
        "outputId": "67cbff9e-eb69-48d1-e055-406ba24831ac"
      },
      "source": [
        "def accuracy(dataset, model, iterator):\n",
        "  # Testing the model and returning the accuracy on the given dataset\n",
        "  total = 0\n",
        "  correct = 0\n",
        "  for batch in iterator(dataset, num_epochs=1):\n",
        "      sentence = batch['sentence']\n",
        "      label = batch['label']\n",
        "      output = model(sentence)\n",
        "      total += len(label)\n",
        "      prediction = (output > 0).long()\n",
        "      correct += (prediction == label).sum()\n",
        "\n",
        "  return float(correct) / total  \n",
        "\n",
        "def training_loop(model, iterator, train_set, dev_set, num_epochs=100,\n",
        "                  lr=0.1, weight_decay=0.0, early_stop_decision = 'simple'):\n",
        "  \"\"\"\n",
        "  Should return the best dev_set accuracy and the number of epochs used. \n",
        "  \"\"\"\n",
        "  criterion = torch.nn.BCEWithLogitsLoss()  \n",
        "  optimizer = torch.optim.SGD(model.parameters(), lr=lr, \n",
        "                              weight_decay=weight_decay)  \n",
        "  # Training the Model\n",
        "  epoch_accuracies = []\n",
        "  best_epoch = 0\n",
        "  best_accuracy = 0.0\n",
        "  for epoch in range(num_epochs):\n",
        "      for i, batch in enumerate(iterator(train_set,num_epochs=1)):\n",
        "          sentence = batch['sentence']\n",
        "          label = batch['label'].float()\n",
        "\n",
        "          # Forward + Backward + Optimize\n",
        "          optimizer.zero_grad()\n",
        "          logits = model(sentence)\n",
        "          loss = criterion(logits, label)\n",
        "          loss.backward()\n",
        "          optimizer.step()\n",
        "\n",
        "          if (i+1) % 100 == 0:\n",
        "              print ('Epoch: [%d/%d], Step: [%d/%d], Loss: %.4f, Dev: %.4f' \n",
        "                     % (epoch+1, num_epochs, i+1, len(train_set)//iterator._batch_size, \n",
        "                        loss.data, accuracy(dev_set, model, iterator)))\n",
        "      \n",
        "      epoch_accuracies.append(accuracy(dev_set, model, iterator))\n",
        "      if epoch_accuracies[-1] > best_accuracy:\n",
        "          best_accuracy = epoch_accuracies[-1]\n",
        "          best_epoch = epoch\n",
        "          \n",
        "      # TODO: implement early stopping here \n",
        "      # The exercise require the early stopping to happen if the comparison with the epoch accuracy has not gone up in th elast 10 iterations.\n",
        "      # We can compare this with the 10th last result or we can use a moving average to ensure the smoothness of the function.\n",
        "      # I added an argument \"early_stop_decision\" in training_loop with a default to simple to check for this\n",
        "      # I use best set accuracy as specified here: https://moodle.ucl.ac.uk/mod/forum/discuss.php?d=539287\n",
        "      if early_stop_decision == 'simple':\n",
        "        if len(epoch_accuracies) > 10:\n",
        "          if best_accuracy <= epoch_accuracies[-11]:\n",
        "            print(\"Early Stop\")\n",
        "            break    \n",
        "      elif early_stop_decision == 'complex': \n",
        "        if len(epoch_accuracies) > 10:\n",
        "          if best_accuracy <= sum(epoch_accuracies[-11:-2])/10:\n",
        "            print(\"Early Stop\")\n",
        "            break \n",
        "\n",
        "  return best_accuracy, best_epoch\n",
        "\n",
        "reader = PolarityDatasetReader(tokenize_and_preprocess=add_features)\n",
        "data = reader.read(cached_path(\"rt-polaritydata/rt-polarity.utf8.tsv\"))\n",
        "training_data = data[0:-1000]\n",
        "dev_data = data[-1000:]\n",
        "vocab = Vocabulary.from_instances(training_data)\n",
        "iterator = BucketIterator(batch_size=32, sorting_keys=[(\"sentence\", \"num_tokens\")])\n",
        "iterator.index_with(vocab)\n",
        "print(len(training_data))\n",
        "print(len(dev_data))\n",
        "print(len(data))"
      ],
      "execution_count": 20,
      "outputs": [
        {
          "output_type": "stream",
          "text": [
            "10662it [00:01, 7842.61it/s]\n",
            "100%|██████████| 9662/9662 [00:00<00:00, 27651.93it/s]\n"
          ],
          "name": "stderr"
        },
        {
          "output_type": "stream",
          "text": [
            "9662\n",
            "1000\n",
            "10662\n"
          ],
          "name": "stdout"
        }
      ]
    },
    {
      "cell_type": "code",
      "metadata": {
        "colab": {
          "base_uri": "https://localhost:8080/"
        },
        "id": "101596npWy9o",
        "outputId": "bf790251-2876-461d-a9fc-282eb8f23334"
      },
      "source": [
        "best_acc = 0.0 # best accuracy achieved \r\n",
        "best_lr = 0.0 # best learning rate at best accuracy \r\n",
        "best_l2 = 0.0 # best l2 regularizing weight\r\n",
        "best_epochs = 0 # best number of epochs\r\n",
        "# TODO: implement grid search to make sure the above 4 variable have \r\n",
        "model = LogisticRegression(num_features=vocab.get_vocab_size(\"tokens\"))\r\n",
        "for lr in [1.0, 0.1]:\r\n",
        "  for l2 in [0.001, 0.0001, 0]:\r\n",
        "    acc, epochs = training_loop(model, iterator, training_data, dev_data, num_epochs=1000, lr=lr, weight_decay = l2)\r\n",
        "    \r\n",
        "    if acc > best_acc:\r\n",
        "      print(epochs)\r\n",
        "      best_acc = acc\r\n",
        "      best_lr = lr\r\n",
        "      best_l2 = l2\r\n",
        "      best_epochs = epochs"
      ],
      "execution_count": 21,
      "outputs": [
        {
          "output_type": "stream",
          "text": [
            "Epoch: [1/1000], Step: [100/301], Loss: 0.9812, Dev: 0.1090\n",
            "Epoch: [1/1000], Step: [200/301], Loss: 1.8530, Dev: 0.1460\n",
            "Epoch: [1/1000], Step: [300/301], Loss: 1.7434, Dev: 0.0900\n",
            "Epoch: [2/1000], Step: [100/301], Loss: 1.7399, Dev: 0.1720\n",
            "Epoch: [2/1000], Step: [200/301], Loss: 0.6094, Dev: 0.1850\n",
            "Epoch: [2/1000], Step: [300/301], Loss: 0.5442, Dev: 0.1240\n",
            "Epoch: [3/1000], Step: [100/301], Loss: 0.6584, Dev: 0.1620\n",
            "Epoch: [3/1000], Step: [200/301], Loss: 0.7062, Dev: 0.1620\n",
            "Epoch: [3/1000], Step: [300/301], Loss: 0.5824, Dev: 0.2050\n",
            "Epoch: [4/1000], Step: [100/301], Loss: 0.2498, Dev: 0.2660\n",
            "Epoch: [4/1000], Step: [200/301], Loss: 0.5916, Dev: 0.3230\n",
            "Epoch: [4/1000], Step: [300/301], Loss: 0.5106, Dev: 0.3180\n",
            "Epoch: [5/1000], Step: [100/301], Loss: 0.5431, Dev: 0.2410\n",
            "Epoch: [5/1000], Step: [200/301], Loss: 0.4334, Dev: 0.2620\n",
            "Epoch: [5/1000], Step: [300/301], Loss: 0.4914, Dev: 0.2940\n",
            "Epoch: [6/1000], Step: [100/301], Loss: 0.4913, Dev: 0.3500\n",
            "Epoch: [6/1000], Step: [200/301], Loss: 0.3764, Dev: 0.1860\n",
            "Epoch: [6/1000], Step: [300/301], Loss: 0.3269, Dev: 0.3730\n",
            "Epoch: [7/1000], Step: [100/301], Loss: 0.2537, Dev: 0.4570\n",
            "Epoch: [7/1000], Step: [200/301], Loss: 0.3493, Dev: 0.3210\n",
            "Epoch: [7/1000], Step: [300/301], Loss: 0.3618, Dev: 0.3200\n",
            "Epoch: [8/1000], Step: [100/301], Loss: 0.4283, Dev: 0.2700\n",
            "Epoch: [8/1000], Step: [200/301], Loss: 0.3530, Dev: 0.3830\n",
            "Epoch: [8/1000], Step: [300/301], Loss: 0.5054, Dev: 0.5390\n",
            "Epoch: [9/1000], Step: [100/301], Loss: 0.3335, Dev: 0.4050\n",
            "Epoch: [9/1000], Step: [200/301], Loss: 0.2846, Dev: 0.3690\n",
            "Epoch: [9/1000], Step: [300/301], Loss: 0.3584, Dev: 0.2820\n",
            "Epoch: [10/1000], Step: [100/301], Loss: 0.2989, Dev: 0.6020\n",
            "Epoch: [10/1000], Step: [200/301], Loss: 0.2969, Dev: 0.5540\n",
            "Epoch: [10/1000], Step: [300/301], Loss: 0.2547, Dev: 0.3280\n",
            "Epoch: [11/1000], Step: [100/301], Loss: 0.4965, Dev: 0.6030\n",
            "Epoch: [11/1000], Step: [200/301], Loss: 0.3276, Dev: 0.4670\n",
            "Epoch: [11/1000], Step: [300/301], Loss: 0.3711, Dev: 0.5720\n",
            "Epoch: [12/1000], Step: [100/301], Loss: 0.3688, Dev: 0.7070\n",
            "Epoch: [12/1000], Step: [200/301], Loss: 0.5407, Dev: 0.5850\n",
            "Epoch: [12/1000], Step: [300/301], Loss: 0.2988, Dev: 0.3620\n",
            "Epoch: [13/1000], Step: [100/301], Loss: 0.4614, Dev: 0.4840\n",
            "Epoch: [13/1000], Step: [200/301], Loss: 0.2874, Dev: 0.6780\n",
            "Epoch: [13/1000], Step: [300/301], Loss: 0.2848, Dev: 0.7580\n",
            "Epoch: [14/1000], Step: [100/301], Loss: 0.4080, Dev: 0.6980\n",
            "Epoch: [14/1000], Step: [200/301], Loss: 0.2438, Dev: 0.6410\n",
            "Epoch: [14/1000], Step: [300/301], Loss: 0.4316, Dev: 0.6520\n",
            "Epoch: [15/1000], Step: [100/301], Loss: 0.2146, Dev: 0.7360\n",
            "Epoch: [15/1000], Step: [200/301], Loss: 0.3488, Dev: 0.6520\n",
            "Epoch: [15/1000], Step: [300/301], Loss: 0.3039, Dev: 0.5050\n",
            "Epoch: [16/1000], Step: [100/301], Loss: 0.3461, Dev: 0.6730\n",
            "Epoch: [16/1000], Step: [200/301], Loss: 0.2982, Dev: 0.7450\n",
            "Epoch: [16/1000], Step: [300/301], Loss: 0.4018, Dev: 0.4590\n",
            "Epoch: [17/1000], Step: [100/301], Loss: 0.3630, Dev: 0.6270\n",
            "Epoch: [17/1000], Step: [200/301], Loss: 0.3789, Dev: 0.5500\n",
            "Epoch: [17/1000], Step: [300/301], Loss: 0.3919, Dev: 0.6180\n",
            "Epoch: [18/1000], Step: [100/301], Loss: 0.3751, Dev: 0.8490\n",
            "Epoch: [18/1000], Step: [200/301], Loss: 0.3490, Dev: 0.5560\n",
            "Epoch: [18/1000], Step: [300/301], Loss: 0.3521, Dev: 0.7340\n",
            "Epoch: [19/1000], Step: [100/301], Loss: 0.3342, Dev: 0.7430\n",
            "Epoch: [19/1000], Step: [200/301], Loss: 0.4614, Dev: 0.7350\n",
            "Epoch: [19/1000], Step: [300/301], Loss: 0.4443, Dev: 0.8130\n",
            "Epoch: [20/1000], Step: [100/301], Loss: 0.3643, Dev: 0.6180\n",
            "Epoch: [20/1000], Step: [200/301], Loss: 0.4632, Dev: 0.5460\n",
            "Epoch: [20/1000], Step: [300/301], Loss: 0.3027, Dev: 0.6850\n",
            "Epoch: [21/1000], Step: [100/301], Loss: 0.3174, Dev: 0.6000\n",
            "Epoch: [21/1000], Step: [200/301], Loss: 0.3177, Dev: 0.7040\n",
            "Epoch: [21/1000], Step: [300/301], Loss: 0.2081, Dev: 0.7210\n",
            "Epoch: [22/1000], Step: [100/301], Loss: 0.2646, Dev: 0.6640\n",
            "Epoch: [22/1000], Step: [200/301], Loss: 0.3358, Dev: 0.6900\n",
            "Epoch: [22/1000], Step: [300/301], Loss: 0.2740, Dev: 0.6790\n",
            "Epoch: [23/1000], Step: [100/301], Loss: 0.3948, Dev: 0.5690\n",
            "Epoch: [23/1000], Step: [200/301], Loss: 0.3357, Dev: 0.7660\n",
            "Epoch: [23/1000], Step: [300/301], Loss: 0.2900, Dev: 0.5620\n",
            "Epoch: [24/1000], Step: [100/301], Loss: 0.2075, Dev: 0.7040\n",
            "Epoch: [24/1000], Step: [200/301], Loss: 0.3494, Dev: 0.6900\n",
            "Epoch: [24/1000], Step: [300/301], Loss: 0.2970, Dev: 0.7450\n",
            "Epoch: [25/1000], Step: [100/301], Loss: 0.3443, Dev: 0.6700\n",
            "Epoch: [25/1000], Step: [200/301], Loss: 0.2919, Dev: 0.7860\n",
            "Epoch: [25/1000], Step: [300/301], Loss: 0.3007, Dev: 0.6020\n",
            "Epoch: [26/1000], Step: [100/301], Loss: 0.3645, Dev: 0.7130\n",
            "Epoch: [26/1000], Step: [200/301], Loss: 0.2889, Dev: 0.6580\n",
            "Epoch: [26/1000], Step: [300/301], Loss: 0.2537, Dev: 0.6580\n",
            "Epoch: [27/1000], Step: [100/301], Loss: 0.2770, Dev: 0.7180\n",
            "Epoch: [27/1000], Step: [200/301], Loss: 0.3340, Dev: 0.5820\n",
            "Epoch: [27/1000], Step: [300/301], Loss: 0.3391, Dev: 0.5440\n",
            "Epoch: [28/1000], Step: [100/301], Loss: 0.3026, Dev: 0.4530\n",
            "Epoch: [28/1000], Step: [200/301], Loss: 0.3280, Dev: 0.4000\n",
            "Epoch: [28/1000], Step: [300/301], Loss: 0.3145, Dev: 0.7620\n",
            "Epoch: [29/1000], Step: [100/301], Loss: 0.1838, Dev: 0.7950\n",
            "Epoch: [29/1000], Step: [200/301], Loss: 0.2293, Dev: 0.7650\n",
            "Epoch: [29/1000], Step: [300/301], Loss: 0.4959, Dev: 0.7320\n",
            "Epoch: [30/1000], Step: [100/301], Loss: 0.1878, Dev: 0.6530\n",
            "Epoch: [30/1000], Step: [200/301], Loss: 0.2800, Dev: 0.7640\n",
            "Epoch: [30/1000], Step: [300/301], Loss: 0.2142, Dev: 0.6830\n",
            "Early Stop\n",
            "19\n",
            "Epoch: [1/1000], Step: [100/301], Loss: 0.2104, Dev: 0.6590\n",
            "Epoch: [1/1000], Step: [200/301], Loss: 0.2626, Dev: 0.7490\n",
            "Epoch: [1/1000], Step: [300/301], Loss: 0.2786, Dev: 0.6930\n",
            "Epoch: [2/1000], Step: [100/301], Loss: 0.3476, Dev: 0.7280\n",
            "Epoch: [2/1000], Step: [200/301], Loss: 0.2220, Dev: 0.6490\n",
            "Epoch: [2/1000], Step: [300/301], Loss: 0.2344, Dev: 0.6410\n",
            "Epoch: [3/1000], Step: [100/301], Loss: 0.2116, Dev: 0.6880\n",
            "Epoch: [3/1000], Step: [200/301], Loss: 0.4201, Dev: 0.8090\n",
            "Epoch: [3/1000], Step: [300/301], Loss: 0.2433, Dev: 0.6340\n",
            "Epoch: [4/1000], Step: [100/301], Loss: 0.3085, Dev: 0.6770\n",
            "Epoch: [4/1000], Step: [200/301], Loss: 0.1742, Dev: 0.6870\n",
            "Epoch: [4/1000], Step: [300/301], Loss: 0.1435, Dev: 0.7030\n",
            "Epoch: [5/1000], Step: [100/301], Loss: 0.1731, Dev: 0.6750\n",
            "Epoch: [5/1000], Step: [200/301], Loss: 0.1470, Dev: 0.6950\n",
            "Epoch: [5/1000], Step: [300/301], Loss: 0.1530, Dev: 0.7130\n",
            "Epoch: [6/1000], Step: [100/301], Loss: 0.0929, Dev: 0.6510\n",
            "Epoch: [6/1000], Step: [200/301], Loss: 0.1451, Dev: 0.7170\n",
            "Epoch: [6/1000], Step: [300/301], Loss: 0.1717, Dev: 0.7410\n",
            "Epoch: [7/1000], Step: [100/301], Loss: 0.1323, Dev: 0.6830\n",
            "Epoch: [7/1000], Step: [200/301], Loss: 0.0631, Dev: 0.7080\n",
            "Epoch: [7/1000], Step: [300/301], Loss: 0.2526, Dev: 0.7570\n",
            "Epoch: [8/1000], Step: [100/301], Loss: 0.1243, Dev: 0.6880\n",
            "Epoch: [8/1000], Step: [200/301], Loss: 0.1771, Dev: 0.6900\n",
            "Epoch: [8/1000], Step: [300/301], Loss: 0.0696, Dev: 0.7230\n",
            "Epoch: [9/1000], Step: [100/301], Loss: 0.0813, Dev: 0.6920\n",
            "Epoch: [9/1000], Step: [200/301], Loss: 0.0743, Dev: 0.7450\n",
            "Epoch: [9/1000], Step: [300/301], Loss: 0.0888, Dev: 0.8030\n",
            "Epoch: [10/1000], Step: [100/301], Loss: 0.1024, Dev: 0.6930\n",
            "Epoch: [10/1000], Step: [200/301], Loss: 0.0714, Dev: 0.7390\n",
            "Epoch: [10/1000], Step: [300/301], Loss: 0.2101, Dev: 0.8170\n",
            "Epoch: [11/1000], Step: [100/301], Loss: 0.1876, Dev: 0.6470\n",
            "Epoch: [11/1000], Step: [200/301], Loss: 0.0738, Dev: 0.7300\n",
            "Epoch: [11/1000], Step: [300/301], Loss: 0.1479, Dev: 0.6980\n",
            "Epoch: [12/1000], Step: [100/301], Loss: 0.1866, Dev: 0.7200\n",
            "Epoch: [12/1000], Step: [200/301], Loss: 0.1418, Dev: 0.6950\n",
            "Epoch: [12/1000], Step: [300/301], Loss: 0.1502, Dev: 0.6850\n",
            "Epoch: [13/1000], Step: [100/301], Loss: 0.1521, Dev: 0.7170\n",
            "Epoch: [13/1000], Step: [200/301], Loss: 0.0627, Dev: 0.7080\n",
            "Epoch: [13/1000], Step: [300/301], Loss: 0.1880, Dev: 0.6980\n",
            "Epoch: [14/1000], Step: [100/301], Loss: 0.1134, Dev: 0.7300\n",
            "Epoch: [14/1000], Step: [200/301], Loss: 0.2100, Dev: 0.7750\n",
            "Epoch: [14/1000], Step: [300/301], Loss: 0.1286, Dev: 0.7020\n",
            "Epoch: [15/1000], Step: [100/301], Loss: 0.0946, Dev: 0.7240\n",
            "Epoch: [15/1000], Step: [200/301], Loss: 0.2099, Dev: 0.7380\n",
            "Epoch: [15/1000], Step: [300/301], Loss: 0.0921, Dev: 0.6980\n",
            "Early Stop\n",
            "Epoch: [1/1000], Step: [100/301], Loss: 0.0728, Dev: 0.6900\n",
            "Epoch: [1/1000], Step: [200/301], Loss: 0.0974, Dev: 0.7150\n",
            "Epoch: [1/1000], Step: [300/301], Loss: 0.1035, Dev: 0.6980\n",
            "Epoch: [2/1000], Step: [100/301], Loss: 0.0761, Dev: 0.7070\n",
            "Epoch: [2/1000], Step: [200/301], Loss: 0.0596, Dev: 0.7010\n",
            "Epoch: [2/1000], Step: [300/301], Loss: 0.0914, Dev: 0.7110\n",
            "Epoch: [3/1000], Step: [100/301], Loss: 0.0784, Dev: 0.7250\n",
            "Epoch: [3/1000], Step: [200/301], Loss: 0.0253, Dev: 0.7450\n",
            "Epoch: [3/1000], Step: [300/301], Loss: 0.1074, Dev: 0.7070\n",
            "Epoch: [4/1000], Step: [100/301], Loss: 0.0285, Dev: 0.7070\n",
            "Epoch: [4/1000], Step: [200/301], Loss: 0.0467, Dev: 0.6940\n",
            "Epoch: [4/1000], Step: [300/301], Loss: 0.0698, Dev: 0.7100\n",
            "Epoch: [5/1000], Step: [100/301], Loss: 0.0413, Dev: 0.6900\n",
            "Epoch: [5/1000], Step: [200/301], Loss: 0.0343, Dev: 0.7230\n",
            "Epoch: [5/1000], Step: [300/301], Loss: 0.0631, Dev: 0.7080\n",
            "Epoch: [6/1000], Step: [100/301], Loss: 0.0427, Dev: 0.7110\n",
            "Epoch: [6/1000], Step: [200/301], Loss: 0.0565, Dev: 0.6960\n",
            "Epoch: [6/1000], Step: [300/301], Loss: 0.0252, Dev: 0.6620\n",
            "Epoch: [7/1000], Step: [100/301], Loss: 0.0616, Dev: 0.7090\n",
            "Epoch: [7/1000], Step: [200/301], Loss: 0.0804, Dev: 0.7480\n",
            "Epoch: [7/1000], Step: [300/301], Loss: 0.0691, Dev: 0.7090\n",
            "Epoch: [8/1000], Step: [100/301], Loss: 0.0375, Dev: 0.6900\n",
            "Epoch: [8/1000], Step: [200/301], Loss: 0.0588, Dev: 0.7390\n",
            "Epoch: [8/1000], Step: [300/301], Loss: 0.0807, Dev: 0.7000\n",
            "Epoch: [9/1000], Step: [100/301], Loss: 0.0436, Dev: 0.7030\n",
            "Epoch: [9/1000], Step: [200/301], Loss: 0.0441, Dev: 0.7160\n",
            "Epoch: [9/1000], Step: [300/301], Loss: 0.0479, Dev: 0.6990\n",
            "Epoch: [10/1000], Step: [100/301], Loss: 0.0220, Dev: 0.7070\n",
            "Epoch: [10/1000], Step: [200/301], Loss: 0.1128, Dev: 0.7110\n",
            "Epoch: [10/1000], Step: [300/301], Loss: 0.0285, Dev: 0.7210\n",
            "Epoch: [11/1000], Step: [100/301], Loss: 0.0372, Dev: 0.6960\n",
            "Epoch: [11/1000], Step: [200/301], Loss: 0.0410, Dev: 0.7050\n",
            "Epoch: [11/1000], Step: [300/301], Loss: 0.0227, Dev: 0.7060\n",
            "Early Stop\n",
            "Epoch: [1/1000], Step: [100/301], Loss: 0.0641, Dev: 0.7160\n",
            "Epoch: [1/1000], Step: [200/301], Loss: 0.0502, Dev: 0.7130\n",
            "Epoch: [1/1000], Step: [300/301], Loss: 0.0424, Dev: 0.7140\n",
            "Epoch: [2/1000], Step: [100/301], Loss: 0.0375, Dev: 0.7100\n",
            "Epoch: [2/1000], Step: [200/301], Loss: 0.0323, Dev: 0.7140\n",
            "Epoch: [2/1000], Step: [300/301], Loss: 0.0279, Dev: 0.7180\n",
            "Epoch: [3/1000], Step: [100/301], Loss: 0.0546, Dev: 0.7150\n",
            "Epoch: [3/1000], Step: [200/301], Loss: 0.0566, Dev: 0.7070\n",
            "Epoch: [3/1000], Step: [300/301], Loss: 0.0905, Dev: 0.7090\n",
            "Epoch: [4/1000], Step: [100/301], Loss: 0.0882, Dev: 0.7110\n",
            "Epoch: [4/1000], Step: [200/301], Loss: 0.0509, Dev: 0.7070\n",
            "Epoch: [4/1000], Step: [300/301], Loss: 0.0583, Dev: 0.7120\n",
            "Epoch: [5/1000], Step: [100/301], Loss: 0.0560, Dev: 0.7080\n",
            "Epoch: [5/1000], Step: [200/301], Loss: 0.0618, Dev: 0.7040\n",
            "Epoch: [5/1000], Step: [300/301], Loss: 0.0515, Dev: 0.7130\n",
            "Epoch: [6/1000], Step: [100/301], Loss: 0.0507, Dev: 0.7140\n",
            "Epoch: [6/1000], Step: [200/301], Loss: 0.0547, Dev: 0.7130\n",
            "Epoch: [6/1000], Step: [300/301], Loss: 0.0641, Dev: 0.7000\n",
            "Epoch: [7/1000], Step: [100/301], Loss: 0.0781, Dev: 0.7070\n",
            "Epoch: [7/1000], Step: [200/301], Loss: 0.0400, Dev: 0.7120\n",
            "Epoch: [7/1000], Step: [300/301], Loss: 0.0645, Dev: 0.7010\n",
            "Epoch: [8/1000], Step: [100/301], Loss: 0.0517, Dev: 0.7190\n",
            "Epoch: [8/1000], Step: [200/301], Loss: 0.0566, Dev: 0.7080\n",
            "Epoch: [8/1000], Step: [300/301], Loss: 0.0875, Dev: 0.7040\n",
            "Epoch: [9/1000], Step: [100/301], Loss: 0.0701, Dev: 0.7050\n",
            "Epoch: [9/1000], Step: [200/301], Loss: 0.0592, Dev: 0.7130\n",
            "Epoch: [9/1000], Step: [300/301], Loss: 0.1027, Dev: 0.6980\n",
            "Epoch: [10/1000], Step: [100/301], Loss: 0.0795, Dev: 0.6980\n",
            "Epoch: [10/1000], Step: [200/301], Loss: 0.1516, Dev: 0.7150\n",
            "Epoch: [10/1000], Step: [300/301], Loss: 0.0809, Dev: 0.7060\n",
            "Epoch: [11/1000], Step: [100/301], Loss: 0.1476, Dev: 0.7070\n",
            "Epoch: [11/1000], Step: [200/301], Loss: 0.1455, Dev: 0.7060\n",
            "Epoch: [11/1000], Step: [300/301], Loss: 0.0565, Dev: 0.7040\n",
            "Epoch: [12/1000], Step: [100/301], Loss: 0.0750, Dev: 0.7040\n",
            "Epoch: [12/1000], Step: [200/301], Loss: 0.0581, Dev: 0.7010\n",
            "Epoch: [12/1000], Step: [300/301], Loss: 0.0745, Dev: 0.7050\n",
            "Early Stop\n",
            "Epoch: [1/1000], Step: [100/301], Loss: 0.0914, Dev: 0.7040\n",
            "Epoch: [1/1000], Step: [200/301], Loss: 0.0777, Dev: 0.7130\n",
            "Epoch: [1/1000], Step: [300/301], Loss: 0.1041, Dev: 0.7050\n",
            "Epoch: [2/1000], Step: [100/301], Loss: 0.0868, Dev: 0.7020\n",
            "Epoch: [2/1000], Step: [200/301], Loss: 0.0732, Dev: 0.7150\n",
            "Epoch: [2/1000], Step: [300/301], Loss: 0.0936, Dev: 0.7210\n",
            "Epoch: [3/1000], Step: [100/301], Loss: 0.2002, Dev: 0.6970\n",
            "Epoch: [3/1000], Step: [200/301], Loss: 0.0727, Dev: 0.7100\n",
            "Epoch: [3/1000], Step: [300/301], Loss: 0.1491, Dev: 0.6970\n",
            "Epoch: [4/1000], Step: [100/301], Loss: 0.0573, Dev: 0.6990\n",
            "Epoch: [4/1000], Step: [200/301], Loss: 0.0940, Dev: 0.7050\n",
            "Epoch: [4/1000], Step: [300/301], Loss: 0.0886, Dev: 0.6970\n",
            "Epoch: [5/1000], Step: [100/301], Loss: 0.0707, Dev: 0.7070\n",
            "Epoch: [5/1000], Step: [200/301], Loss: 0.0979, Dev: 0.7120\n",
            "Epoch: [5/1000], Step: [300/301], Loss: 0.1434, Dev: 0.7060\n",
            "Epoch: [6/1000], Step: [100/301], Loss: 0.0527, Dev: 0.7100\n",
            "Epoch: [6/1000], Step: [200/301], Loss: 0.1406, Dev: 0.7260\n",
            "Epoch: [6/1000], Step: [300/301], Loss: 0.0894, Dev: 0.6960\n",
            "Epoch: [7/1000], Step: [100/301], Loss: 0.2333, Dev: 0.7040\n",
            "Epoch: [7/1000], Step: [200/301], Loss: 0.0808, Dev: 0.6970\n",
            "Epoch: [7/1000], Step: [300/301], Loss: 0.1064, Dev: 0.6980\n",
            "Epoch: [8/1000], Step: [100/301], Loss: 0.0776, Dev: 0.7150\n",
            "Epoch: [8/1000], Step: [200/301], Loss: 0.1157, Dev: 0.7030\n",
            "Epoch: [8/1000], Step: [300/301], Loss: 0.0584, Dev: 0.7040\n",
            "Epoch: [9/1000], Step: [100/301], Loss: 0.0476, Dev: 0.7000\n",
            "Epoch: [9/1000], Step: [200/301], Loss: 0.0672, Dev: 0.7260\n",
            "Epoch: [9/1000], Step: [300/301], Loss: 0.2401, Dev: 0.7050\n",
            "Epoch: [10/1000], Step: [100/301], Loss: 0.0721, Dev: 0.6970\n",
            "Epoch: [10/1000], Step: [200/301], Loss: 0.0559, Dev: 0.7180\n",
            "Epoch: [10/1000], Step: [300/301], Loss: 0.1077, Dev: 0.7060\n",
            "Epoch: [11/1000], Step: [100/301], Loss: 0.0824, Dev: 0.6980\n",
            "Epoch: [11/1000], Step: [200/301], Loss: 0.0742, Dev: 0.7010\n",
            "Epoch: [11/1000], Step: [300/301], Loss: 0.0986, Dev: 0.7080\n",
            "Epoch: [12/1000], Step: [100/301], Loss: 0.0675, Dev: 0.6990\n",
            "Epoch: [12/1000], Step: [200/301], Loss: 0.1195, Dev: 0.7060\n",
            "Epoch: [12/1000], Step: [300/301], Loss: 0.1429, Dev: 0.7020\n",
            "Early Stop\n",
            "Epoch: [1/1000], Step: [100/301], Loss: 0.0730, Dev: 0.6960\n",
            "Epoch: [1/1000], Step: [200/301], Loss: 0.0767, Dev: 0.7050\n",
            "Epoch: [1/1000], Step: [300/301], Loss: 0.0737, Dev: 0.7020\n",
            "Epoch: [2/1000], Step: [100/301], Loss: 0.0640, Dev: 0.7200\n",
            "Epoch: [2/1000], Step: [200/301], Loss: 0.0756, Dev: 0.7070\n",
            "Epoch: [2/1000], Step: [300/301], Loss: 0.0816, Dev: 0.7000\n",
            "Epoch: [3/1000], Step: [100/301], Loss: 0.1476, Dev: 0.7030\n",
            "Epoch: [3/1000], Step: [200/301], Loss: 0.0477, Dev: 0.7170\n",
            "Epoch: [3/1000], Step: [300/301], Loss: 0.1695, Dev: 0.7070\n",
            "Epoch: [4/1000], Step: [100/301], Loss: 0.1693, Dev: 0.7100\n",
            "Epoch: [4/1000], Step: [200/301], Loss: 0.0949, Dev: 0.7100\n",
            "Epoch: [4/1000], Step: [300/301], Loss: 0.0883, Dev: 0.7040\n",
            "Epoch: [5/1000], Step: [100/301], Loss: 0.0763, Dev: 0.7110\n",
            "Epoch: [5/1000], Step: [200/301], Loss: 0.1362, Dev: 0.7030\n",
            "Epoch: [5/1000], Step: [300/301], Loss: 0.0597, Dev: 0.7100\n",
            "Epoch: [6/1000], Step: [100/301], Loss: 0.0565, Dev: 0.7020\n",
            "Epoch: [6/1000], Step: [200/301], Loss: 0.0747, Dev: 0.7080\n",
            "Epoch: [6/1000], Step: [300/301], Loss: 0.0842, Dev: 0.7080\n",
            "Epoch: [7/1000], Step: [100/301], Loss: 0.0833, Dev: 0.7020\n",
            "Epoch: [7/1000], Step: [200/301], Loss: 0.0632, Dev: 0.7140\n",
            "Epoch: [7/1000], Step: [300/301], Loss: 0.0934, Dev: 0.7020\n",
            "Epoch: [8/1000], Step: [100/301], Loss: 0.1459, Dev: 0.7010\n",
            "Epoch: [8/1000], Step: [200/301], Loss: 0.1191, Dev: 0.7170\n",
            "Epoch: [8/1000], Step: [300/301], Loss: 0.0886, Dev: 0.7040\n",
            "Epoch: [9/1000], Step: [100/301], Loss: 0.1435, Dev: 0.7010\n",
            "Epoch: [9/1000], Step: [200/301], Loss: 0.0615, Dev: 0.7060\n",
            "Epoch: [9/1000], Step: [300/301], Loss: 0.1463, Dev: 0.7120\n",
            "Epoch: [10/1000], Step: [100/301], Loss: 0.0401, Dev: 0.7200\n",
            "Epoch: [10/1000], Step: [200/301], Loss: 0.1164, Dev: 0.7000\n",
            "Epoch: [10/1000], Step: [300/301], Loss: 0.1822, Dev: 0.7050\n",
            "Epoch: [11/1000], Step: [100/301], Loss: 0.0508, Dev: 0.7220\n",
            "Epoch: [11/1000], Step: [200/301], Loss: 0.0803, Dev: 0.7040\n",
            "Epoch: [11/1000], Step: [300/301], Loss: 0.0833, Dev: 0.7000\n",
            "Epoch: [12/1000], Step: [100/301], Loss: 0.0601, Dev: 0.7060\n",
            "Epoch: [12/1000], Step: [200/301], Loss: 0.1772, Dev: 0.6990\n",
            "Epoch: [12/1000], Step: [300/301], Loss: 0.0707, Dev: 0.7110\n",
            "Epoch: [13/1000], Step: [100/301], Loss: 0.0728, Dev: 0.7070\n",
            "Epoch: [13/1000], Step: [200/301], Loss: 0.1179, Dev: 0.7020\n",
            "Epoch: [13/1000], Step: [300/301], Loss: 0.0866, Dev: 0.7060\n",
            "Epoch: [14/1000], Step: [100/301], Loss: 0.0833, Dev: 0.7110\n",
            "Epoch: [14/1000], Step: [200/301], Loss: 0.2265, Dev: 0.7060\n",
            "Epoch: [14/1000], Step: [300/301], Loss: 0.0906, Dev: 0.7040\n",
            "Epoch: [15/1000], Step: [100/301], Loss: 0.0541, Dev: 0.7130\n",
            "Epoch: [15/1000], Step: [200/301], Loss: 0.0906, Dev: 0.7040\n",
            "Epoch: [15/1000], Step: [300/301], Loss: 0.0492, Dev: 0.7040\n",
            "Epoch: [16/1000], Step: [100/301], Loss: 0.0723, Dev: 0.7050\n",
            "Epoch: [16/1000], Step: [200/301], Loss: 0.1900, Dev: 0.7080\n",
            "Epoch: [16/1000], Step: [300/301], Loss: 0.0673, Dev: 0.7040\n",
            "Epoch: [17/1000], Step: [100/301], Loss: 0.1054, Dev: 0.7100\n",
            "Epoch: [17/1000], Step: [200/301], Loss: 0.1008, Dev: 0.7080\n",
            "Epoch: [17/1000], Step: [300/301], Loss: 0.0633, Dev: 0.7000\n",
            "Epoch: [18/1000], Step: [100/301], Loss: 0.0684, Dev: 0.7020\n",
            "Epoch: [18/1000], Step: [200/301], Loss: 0.0810, Dev: 0.7220\n",
            "Epoch: [18/1000], Step: [300/301], Loss: 0.0559, Dev: 0.7070\n",
            "Epoch: [19/1000], Step: [100/301], Loss: 0.0714, Dev: 0.7110\n",
            "Epoch: [19/1000], Step: [200/301], Loss: 0.0677, Dev: 0.7010\n",
            "Epoch: [19/1000], Step: [300/301], Loss: 0.0777, Dev: 0.6960\n",
            "Epoch: [20/1000], Step: [100/301], Loss: 0.1741, Dev: 0.6990\n",
            "Epoch: [20/1000], Step: [200/301], Loss: 0.0616, Dev: 0.7210\n",
            "Epoch: [20/1000], Step: [300/301], Loss: 0.0583, Dev: 0.7020\n",
            "Epoch: [21/1000], Step: [100/301], Loss: 0.0983, Dev: 0.7150\n",
            "Epoch: [21/1000], Step: [200/301], Loss: 0.0652, Dev: 0.7100\n",
            "Epoch: [21/1000], Step: [300/301], Loss: 0.0601, Dev: 0.7040\n",
            "Epoch: [22/1000], Step: [100/301], Loss: 0.0766, Dev: 0.7100\n",
            "Epoch: [22/1000], Step: [200/301], Loss: 0.1208, Dev: 0.7080\n",
            "Epoch: [22/1000], Step: [300/301], Loss: 0.0894, Dev: 0.7050\n",
            "Early Stop\n"
          ],
          "name": "stdout"
        }
      ]
    },
    {
      "cell_type": "code",
      "metadata": {
        "colab": {
          "base_uri": "https://localhost:8080/"
        },
        "id": "oDwN2u8xnkLB",
        "outputId": "07308fc3-33ae-43e3-d177-a56f544d5553"
      },
      "source": [
        "print(\"Best Accuracy working with LogisticRegression\")\r\n",
        "best_acc, best_epochs, best_lr, best_l2"
      ],
      "execution_count": 22,
      "outputs": [
        {
          "output_type": "stream",
          "text": [
            "Best Accuracy working with LogisticRegression\n"
          ],
          "name": "stdout"
        },
        {
          "output_type": "execute_result",
          "data": {
            "text/plain": [
              "(0.858, 19, 1.0, 0.001)"
            ]
          },
          "metadata": {
            "tags": []
          },
          "execution_count": 22
        }
      ]
    },
    {
      "cell_type": "code",
      "metadata": {
        "id": "QSz2_Tek_KjQ",
        "colab": {
          "base_uri": "https://localhost:8080/"
        },
        "outputId": "6c87805a-53d7-4d29-b190-7f7bc2cf6440"
      },
      "source": [
        "best_acc = 0.0 # best accuracy achieved \r\n",
        "best_lr = 0.0 # best learning rate at best accuracy \r\n",
        "best_l2 = 0.0 # best l2 regularizing weight\r\n",
        "best_epochs = 0 # best number of epochs\r\n",
        "# TODO: implement grid search to make sure the above 4 variable have \r\n",
        "model = LogisticRegressionMeanPooling(num_features=vocab.get_vocab_size(\"tokens\"))\r\n",
        "for lr in [1.0, 0.1]:\r\n",
        "  for l2 in [0.001, 0.0001, 0]:\r\n",
        "    acc, epochs = training_loop(model, iterator, training_data, dev_data, num_epochs=1000, lr=lr, weight_decay = l2)\r\n",
        "    \r\n",
        "    if acc > best_acc:\r\n",
        "      print(epochs)\r\n",
        "      best_acc = acc\r\n",
        "      best_lr = lr\r\n",
        "      best_l2 = l2\r\n",
        "      best_epochs = epochs"
      ],
      "execution_count": null,
      "outputs": [
        {
          "output_type": "stream",
          "text": [
            "Epoch: [1/1000], Step: [100/301], Loss: 0.6851, Dev: 0.1430\n",
            "Epoch: [1/1000], Step: [200/301], Loss: 0.6858, Dev: 0.1170\n",
            "Epoch: [1/1000], Step: [300/301], Loss: 0.6985, Dev: 0.0820\n",
            "Epoch: [2/1000], Step: [100/301], Loss: 0.6904, Dev: 0.0650\n",
            "Epoch: [2/1000], Step: [200/301], Loss: 0.7037, Dev: 0.0460\n",
            "Epoch: [2/1000], Step: [300/301], Loss: 0.6804, Dev: 0.0320\n",
            "Epoch: [3/1000], Step: [100/301], Loss: 0.6875, Dev: 0.0230\n",
            "Epoch: [3/1000], Step: [200/301], Loss: 0.6922, Dev: 0.0140\n",
            "Epoch: [3/1000], Step: [300/301], Loss: 0.6789, Dev: 0.0090\n",
            "Epoch: [4/1000], Step: [100/301], Loss: 0.7042, Dev: 0.0040\n",
            "Epoch: [4/1000], Step: [200/301], Loss: 0.6802, Dev: 0.0030\n",
            "Epoch: [4/1000], Step: [300/301], Loss: 0.6924, Dev: 0.0010\n",
            "Epoch: [5/1000], Step: [100/301], Loss: 0.7026, Dev: 0.0000\n",
            "Epoch: [5/1000], Step: [200/301], Loss: 0.6919, Dev: 0.0000\n",
            "Epoch: [5/1000], Step: [300/301], Loss: 0.6841, Dev: 0.0000\n",
            "Epoch: [6/1000], Step: [100/301], Loss: 0.6845, Dev: 0.0000\n",
            "Epoch: [6/1000], Step: [200/301], Loss: 0.6902, Dev: 0.0000\n",
            "Epoch: [6/1000], Step: [300/301], Loss: 0.6907, Dev: 0.0000\n",
            "Epoch: [7/1000], Step: [100/301], Loss: 0.6888, Dev: 0.0000\n",
            "Epoch: [7/1000], Step: [200/301], Loss: 0.6797, Dev: 0.0000\n",
            "Epoch: [7/1000], Step: [300/301], Loss: 0.6765, Dev: 0.0000\n",
            "Epoch: [8/1000], Step: [100/301], Loss: 0.6868, Dev: 0.0000\n",
            "Epoch: [8/1000], Step: [200/301], Loss: 0.6834, Dev: 0.0000\n",
            "Epoch: [8/1000], Step: [300/301], Loss: 0.6835, Dev: 0.0000\n",
            "Epoch: [9/1000], Step: [100/301], Loss: 0.7091, Dev: 0.0000\n",
            "Epoch: [9/1000], Step: [200/301], Loss: 0.6812, Dev: 0.0000\n",
            "Epoch: [9/1000], Step: [300/301], Loss: 0.6823, Dev: 0.0000\n",
            "Epoch: [10/1000], Step: [100/301], Loss: 0.6895, Dev: 0.0000\n",
            "Epoch: [10/1000], Step: [200/301], Loss: 0.6830, Dev: 0.0000\n",
            "Epoch: [10/1000], Step: [300/301], Loss: 0.6931, Dev: 0.0000\n",
            "Epoch: [11/1000], Step: [100/301], Loss: 0.6796, Dev: 0.0000\n",
            "Epoch: [11/1000], Step: [200/301], Loss: 0.6894, Dev: 0.0000\n",
            "Epoch: [11/1000], Step: [300/301], Loss: 0.6852, Dev: 0.0000\n",
            "Early Stop\n",
            "0\n",
            "Epoch: [1/1000], Step: [100/301], Loss: 0.6921, Dev: 0.0000\n",
            "Epoch: [1/1000], Step: [200/301], Loss: 0.6866, Dev: 0.0000\n",
            "Epoch: [1/1000], Step: [300/301], Loss: 0.6669, Dev: 0.0000\n",
            "Epoch: [2/1000], Step: [100/301], Loss: 0.6980, Dev: 0.0000\n",
            "Epoch: [2/1000], Step: [200/301], Loss: 0.6829, Dev: 0.0000\n",
            "Epoch: [2/1000], Step: [300/301], Loss: 0.7025, Dev: 0.0000\n",
            "Epoch: [3/1000], Step: [100/301], Loss: 0.6681, Dev: 0.0000\n",
            "Epoch: [3/1000], Step: [200/301], Loss: 0.6628, Dev: 0.0000\n",
            "Epoch: [3/1000], Step: [300/301], Loss: 0.6721, Dev: 0.0000\n",
            "Epoch: [4/1000], Step: [100/301], Loss: 0.6838, Dev: 0.0000\n",
            "Epoch: [4/1000], Step: [200/301], Loss: 0.6886, Dev: 0.0000\n",
            "Epoch: [4/1000], Step: [300/301], Loss: 0.6791, Dev: 0.0000\n",
            "Epoch: [5/1000], Step: [100/301], Loss: 0.6904, Dev: 0.0000\n",
            "Epoch: [5/1000], Step: [200/301], Loss: 0.6820, Dev: 0.0000\n",
            "Epoch: [5/1000], Step: [300/301], Loss: 0.6830, Dev: 0.0000\n",
            "Epoch: [6/1000], Step: [100/301], Loss: 0.6928, Dev: 0.0000\n",
            "Epoch: [6/1000], Step: [200/301], Loss: 0.6781, Dev: 0.0000\n",
            "Epoch: [6/1000], Step: [300/301], Loss: 0.6979, Dev: 0.0000\n",
            "Epoch: [7/1000], Step: [100/301], Loss: 0.6777, Dev: 0.0000\n",
            "Epoch: [7/1000], Step: [200/301], Loss: 0.6718, Dev: 0.0010\n",
            "Epoch: [7/1000], Step: [300/301], Loss: 0.6784, Dev: 0.0010\n",
            "Epoch: [8/1000], Step: [100/301], Loss: 0.6831, Dev: 0.0010\n",
            "Epoch: [8/1000], Step: [200/301], Loss: 0.6407, Dev: 0.0010\n",
            "Epoch: [8/1000], Step: [300/301], Loss: 0.6815, Dev: 0.0010\n",
            "Epoch: [9/1000], Step: [100/301], Loss: 0.6748, Dev: 0.0010\n",
            "Epoch: [9/1000], Step: [200/301], Loss: 0.6826, Dev: 0.0010\n",
            "Epoch: [9/1000], Step: [300/301], Loss: 0.6920, Dev: 0.0010\n",
            "Epoch: [10/1000], Step: [100/301], Loss: 0.6851, Dev: 0.0010\n",
            "Epoch: [10/1000], Step: [200/301], Loss: 0.6780, Dev: 0.0010\n",
            "Epoch: [10/1000], Step: [300/301], Loss: 0.6602, Dev: 0.0010\n",
            "Epoch: [11/1000], Step: [100/301], Loss: 0.6758, Dev: 0.0010\n",
            "Epoch: [11/1000], Step: [200/301], Loss: 0.7022, Dev: 0.0020\n",
            "Epoch: [11/1000], Step: [300/301], Loss: 0.6882, Dev: 0.0010\n",
            "Epoch: [12/1000], Step: [100/301], Loss: 0.6790, Dev: 0.0010\n",
            "Epoch: [12/1000], Step: [200/301], Loss: 0.6743, Dev: 0.0010\n",
            "Epoch: [12/1000], Step: [300/301], Loss: 0.6799, Dev: 0.0020\n",
            "Epoch: [13/1000], Step: [100/301], Loss: 0.6769, Dev: 0.0020\n",
            "Epoch: [13/1000], Step: [200/301], Loss: 0.6767, Dev: 0.0030\n",
            "Epoch: [13/1000], Step: [300/301], Loss: 0.6846, Dev: 0.0030\n",
            "Epoch: [14/1000], Step: [100/301], Loss: 0.6515, Dev: 0.0020\n",
            "Epoch: [14/1000], Step: [200/301], Loss: 0.6838, Dev: 0.0030\n",
            "Epoch: [14/1000], Step: [300/301], Loss: 0.6804, Dev: 0.0040\n",
            "Epoch: [15/1000], Step: [100/301], Loss: 0.6594, Dev: 0.0020\n",
            "Epoch: [15/1000], Step: [200/301], Loss: 0.6903, Dev: 0.0050\n",
            "Epoch: [15/1000], Step: [300/301], Loss: 0.7036, Dev: 0.0080\n",
            "Epoch: [16/1000], Step: [100/301], Loss: 0.6468, Dev: 0.0080\n",
            "Epoch: [16/1000], Step: [200/301], Loss: 0.6740, Dev: 0.0150\n",
            "Epoch: [16/1000], Step: [300/301], Loss: 0.6713, Dev: 0.0110\n",
            "Epoch: [17/1000], Step: [100/301], Loss: 0.6809, Dev: 0.0110\n",
            "Epoch: [17/1000], Step: [200/301], Loss: 0.6661, Dev: 0.0110\n",
            "Epoch: [17/1000], Step: [300/301], Loss: 0.6871, Dev: 0.0130\n",
            "Epoch: [18/1000], Step: [100/301], Loss: 0.6782, Dev: 0.0200\n",
            "Epoch: [18/1000], Step: [200/301], Loss: 0.6745, Dev: 0.0170\n",
            "Epoch: [18/1000], Step: [300/301], Loss: 0.6791, Dev: 0.0170\n",
            "Epoch: [19/1000], Step: [100/301], Loss: 0.6510, Dev: 0.0240\n",
            "Epoch: [19/1000], Step: [200/301], Loss: 0.6655, Dev: 0.0240\n",
            "Epoch: [19/1000], Step: [300/301], Loss: 0.6567, Dev: 0.0260\n",
            "Epoch: [20/1000], Step: [100/301], Loss: 0.6724, Dev: 0.0220\n",
            "Epoch: [20/1000], Step: [200/301], Loss: 0.6717, Dev: 0.0270\n",
            "Epoch: [20/1000], Step: [300/301], Loss: 0.6841, Dev: 0.0300\n",
            "Epoch: [21/1000], Step: [100/301], Loss: 0.6899, Dev: 0.0300\n",
            "Epoch: [21/1000], Step: [200/301], Loss: 0.6956, Dev: 0.0300\n",
            "Epoch: [21/1000], Step: [300/301], Loss: 0.7109, Dev: 0.0300\n",
            "Epoch: [22/1000], Step: [100/301], Loss: 0.6354, Dev: 0.0340\n",
            "Epoch: [22/1000], Step: [200/301], Loss: 0.6516, Dev: 0.0370\n",
            "Epoch: [22/1000], Step: [300/301], Loss: 0.6810, Dev: 0.0370\n",
            "Epoch: [23/1000], Step: [100/301], Loss: 0.6643, Dev: 0.0410\n",
            "Epoch: [23/1000], Step: [200/301], Loss: 0.6976, Dev: 0.0480\n",
            "Epoch: [23/1000], Step: [300/301], Loss: 0.6856, Dev: 0.0370\n",
            "Epoch: [24/1000], Step: [100/301], Loss: 0.6787, Dev: 0.0410\n",
            "Epoch: [24/1000], Step: [200/301], Loss: 0.6654, Dev: 0.0420\n",
            "Epoch: [24/1000], Step: [300/301], Loss: 0.6748, Dev: 0.0390\n",
            "Epoch: [25/1000], Step: [100/301], Loss: 0.6758, Dev: 0.0460\n",
            "Epoch: [25/1000], Step: [200/301], Loss: 0.6706, Dev: 0.0460\n",
            "Epoch: [25/1000], Step: [300/301], Loss: 0.6699, Dev: 0.0430\n",
            "Epoch: [26/1000], Step: [100/301], Loss: 0.6786, Dev: 0.0540\n",
            "Epoch: [26/1000], Step: [200/301], Loss: 0.6959, Dev: 0.0480\n",
            "Epoch: [26/1000], Step: [300/301], Loss: 0.6646, Dev: 0.0520\n",
            "Epoch: [27/1000], Step: [100/301], Loss: 0.6808, Dev: 0.0380\n",
            "Epoch: [27/1000], Step: [200/301], Loss: 0.6875, Dev: 0.0480\n",
            "Epoch: [27/1000], Step: [300/301], Loss: 0.6816, Dev: 0.0600\n",
            "Epoch: [28/1000], Step: [100/301], Loss: 0.6711, Dev: 0.0630\n",
            "Epoch: [28/1000], Step: [200/301], Loss: 0.6782, Dev: 0.0650\n",
            "Epoch: [28/1000], Step: [300/301], Loss: 0.6497, Dev: 0.0630\n",
            "Epoch: [29/1000], Step: [100/301], Loss: 0.6660, Dev: 0.0630\n",
            "Epoch: [29/1000], Step: [200/301], Loss: 0.6907, Dev: 0.0700\n",
            "Epoch: [29/1000], Step: [300/301], Loss: 0.6854, Dev: 0.0650\n",
            "Epoch: [30/1000], Step: [100/301], Loss: 0.6536, Dev: 0.0650\n",
            "Epoch: [30/1000], Step: [200/301], Loss: 0.6594, Dev: 0.0650\n",
            "Epoch: [30/1000], Step: [300/301], Loss: 0.6704, Dev: 0.0680\n",
            "Epoch: [31/1000], Step: [100/301], Loss: 0.6753, Dev: 0.0650\n",
            "Epoch: [31/1000], Step: [200/301], Loss: 0.6605, Dev: 0.0790\n",
            "Epoch: [31/1000], Step: [300/301], Loss: 0.6824, Dev: 0.0760\n",
            "Epoch: [32/1000], Step: [100/301], Loss: 0.6910, Dev: 0.0790\n",
            "Epoch: [32/1000], Step: [200/301], Loss: 0.6544, Dev: 0.0700\n",
            "Epoch: [32/1000], Step: [300/301], Loss: 0.6911, Dev: 0.0760\n",
            "Epoch: [33/1000], Step: [100/301], Loss: 0.6917, Dev: 0.0730\n",
            "Epoch: [33/1000], Step: [200/301], Loss: 0.6967, Dev: 0.0710\n",
            "Epoch: [33/1000], Step: [300/301], Loss: 0.6941, Dev: 0.0790\n",
            "Epoch: [34/1000], Step: [100/301], Loss: 0.6889, Dev: 0.0740\n",
            "Epoch: [34/1000], Step: [200/301], Loss: 0.6831, Dev: 0.0780\n",
            "Epoch: [34/1000], Step: [300/301], Loss: 0.7081, Dev: 0.0840\n",
            "Epoch: [35/1000], Step: [100/301], Loss: 0.6572, Dev: 0.0990\n",
            "Epoch: [35/1000], Step: [200/301], Loss: 0.6846, Dev: 0.0900\n",
            "Epoch: [35/1000], Step: [300/301], Loss: 0.6841, Dev: 0.0840\n",
            "Epoch: [36/1000], Step: [100/301], Loss: 0.6546, Dev: 0.0810\n",
            "Epoch: [36/1000], Step: [200/301], Loss: 0.6569, Dev: 0.0820\n",
            "Epoch: [36/1000], Step: [300/301], Loss: 0.6781, Dev: 0.0850\n",
            "Epoch: [37/1000], Step: [100/301], Loss: 0.6689, Dev: 0.0840\n",
            "Epoch: [37/1000], Step: [200/301], Loss: 0.6773, Dev: 0.0830\n",
            "Epoch: [37/1000], Step: [300/301], Loss: 0.6588, Dev: 0.0900\n",
            "Epoch: [38/1000], Step: [100/301], Loss: 0.6364, Dev: 0.0820\n",
            "Epoch: [38/1000], Step: [200/301], Loss: 0.6575, Dev: 0.0900\n",
            "Epoch: [38/1000], Step: [300/301], Loss: 0.6865, Dev: 0.0930\n",
            "Epoch: [39/1000], Step: [100/301], Loss: 0.6806, Dev: 0.0910\n",
            "Epoch: [39/1000], Step: [200/301], Loss: 0.6498, Dev: 0.0920\n",
            "Epoch: [39/1000], Step: [300/301], Loss: 0.6387, Dev: 0.0920\n",
            "Epoch: [40/1000], Step: [100/301], Loss: 0.6819, Dev: 0.1040\n",
            "Epoch: [40/1000], Step: [200/301], Loss: 0.6747, Dev: 0.0990\n",
            "Epoch: [40/1000], Step: [300/301], Loss: 0.6590, Dev: 0.0940\n",
            "Epoch: [41/1000], Step: [100/301], Loss: 0.6834, Dev: 0.0940\n",
            "Epoch: [41/1000], Step: [200/301], Loss: 0.6591, Dev: 0.0940\n",
            "Epoch: [41/1000], Step: [300/301], Loss: 0.6751, Dev: 0.0990\n",
            "Epoch: [42/1000], Step: [100/301], Loss: 0.6743, Dev: 0.0990\n",
            "Epoch: [42/1000], Step: [200/301], Loss: 0.6603, Dev: 0.0990\n",
            "Epoch: [42/1000], Step: [300/301], Loss: 0.6855, Dev: 0.0990\n",
            "Epoch: [43/1000], Step: [100/301], Loss: 0.6659, Dev: 0.1120\n",
            "Epoch: [43/1000], Step: [200/301], Loss: 0.6722, Dev: 0.1040\n",
            "Epoch: [43/1000], Step: [300/301], Loss: 0.6767, Dev: 0.0990\n",
            "Epoch: [44/1000], Step: [100/301], Loss: 0.6858, Dev: 0.0920\n",
            "Epoch: [44/1000], Step: [200/301], Loss: 0.7149, Dev: 0.0990\n",
            "Epoch: [44/1000], Step: [300/301], Loss: 0.6732, Dev: 0.1040\n",
            "Epoch: [45/1000], Step: [100/301], Loss: 0.6715, Dev: 0.1090\n",
            "Epoch: [45/1000], Step: [200/301], Loss: 0.6811, Dev: 0.1150\n",
            "Epoch: [45/1000], Step: [300/301], Loss: 0.6409, Dev: 0.1040\n",
            "Epoch: [46/1000], Step: [100/301], Loss: 0.6927, Dev: 0.1050\n",
            "Epoch: [46/1000], Step: [200/301], Loss: 0.6822, Dev: 0.1020\n",
            "Epoch: [46/1000], Step: [300/301], Loss: 0.6679, Dev: 0.1050\n",
            "Epoch: [47/1000], Step: [100/301], Loss: 0.6679, Dev: 0.1180\n",
            "Epoch: [47/1000], Step: [200/301], Loss: 0.6539, Dev: 0.1190\n",
            "Epoch: [47/1000], Step: [300/301], Loss: 0.6593, Dev: 0.1070\n",
            "Epoch: [48/1000], Step: [100/301], Loss: 0.6564, Dev: 0.1120\n",
            "Epoch: [48/1000], Step: [200/301], Loss: 0.6585, Dev: 0.1090\n",
            "Epoch: [48/1000], Step: [300/301], Loss: 0.6703, Dev: 0.1100\n",
            "Epoch: [49/1000], Step: [100/301], Loss: 0.6535, Dev: 0.1040\n",
            "Epoch: [49/1000], Step: [200/301], Loss: 0.6682, Dev: 0.1060\n",
            "Epoch: [49/1000], Step: [300/301], Loss: 0.6808, Dev: 0.1130\n",
            "Epoch: [50/1000], Step: [100/301], Loss: 0.6640, Dev: 0.1210\n",
            "Epoch: [50/1000], Step: [200/301], Loss: 0.6617, Dev: 0.1120\n",
            "Epoch: [50/1000], Step: [300/301], Loss: 0.6806, Dev: 0.1200\n",
            "Epoch: [51/1000], Step: [100/301], Loss: 0.6903, Dev: 0.0950\n",
            "Epoch: [51/1000], Step: [200/301], Loss: 0.6890, Dev: 0.1190\n",
            "Epoch: [51/1000], Step: [300/301], Loss: 0.6780, Dev: 0.1200\n",
            "Epoch: [52/1000], Step: [100/301], Loss: 0.6807, Dev: 0.1320\n",
            "Epoch: [52/1000], Step: [200/301], Loss: 0.6317, Dev: 0.1190\n",
            "Epoch: [52/1000], Step: [300/301], Loss: 0.6377, Dev: 0.1190\n",
            "Epoch: [53/1000], Step: [100/301], Loss: 0.6552, Dev: 0.1210\n",
            "Epoch: [53/1000], Step: [200/301], Loss: 0.6667, Dev: 0.1210\n",
            "Epoch: [53/1000], Step: [300/301], Loss: 0.6891, Dev: 0.1180\n",
            "Epoch: [54/1000], Step: [100/301], Loss: 0.6566, Dev: 0.1190\n",
            "Epoch: [54/1000], Step: [200/301], Loss: 0.6642, Dev: 0.1110\n",
            "Epoch: [54/1000], Step: [300/301], Loss: 0.6847, Dev: 0.1210\n",
            "Epoch: [55/1000], Step: [100/301], Loss: 0.6824, Dev: 0.1350\n",
            "Epoch: [55/1000], Step: [200/301], Loss: 0.6532, Dev: 0.1350\n",
            "Epoch: [55/1000], Step: [300/301], Loss: 0.6744, Dev: 0.1200\n",
            "Epoch: [56/1000], Step: [100/301], Loss: 0.6771, Dev: 0.1290\n",
            "Epoch: [56/1000], Step: [200/301], Loss: 0.6875, Dev: 0.1330\n",
            "Epoch: [56/1000], Step: [300/301], Loss: 0.6721, Dev: 0.1200\n",
            "Epoch: [57/1000], Step: [100/301], Loss: 0.6764, Dev: 0.1260\n",
            "Epoch: [57/1000], Step: [200/301], Loss: 0.6831, Dev: 0.1190\n",
            "Epoch: [57/1000], Step: [300/301], Loss: 0.6608, Dev: 0.1240\n",
            "Epoch: [58/1000], Step: [100/301], Loss: 0.6488, Dev: 0.1080\n",
            "Epoch: [58/1000], Step: [200/301], Loss: 0.6169, Dev: 0.1180\n",
            "Epoch: [58/1000], Step: [300/301], Loss: 0.6436, Dev: 0.1290\n",
            "Epoch: [59/1000], Step: [100/301], Loss: 0.6682, Dev: 0.1360\n",
            "Epoch: [59/1000], Step: [200/301], Loss: 0.6491, Dev: 0.1280\n",
            "Epoch: [59/1000], Step: [300/301], Loss: 0.6289, Dev: 0.1330\n",
            "Epoch: [60/1000], Step: [100/301], Loss: 0.6753, Dev: 0.1360\n",
            "Epoch: [60/1000], Step: [200/301], Loss: 0.6524, Dev: 0.1360\n",
            "Epoch: [60/1000], Step: [300/301], Loss: 0.6541, Dev: 0.1350\n",
            "Epoch: [61/1000], Step: [100/301], Loss: 0.6541, Dev: 0.1380\n",
            "Epoch: [61/1000], Step: [200/301], Loss: 0.6718, Dev: 0.1260\n",
            "Epoch: [61/1000], Step: [300/301], Loss: 0.6615, Dev: 0.1340\n",
            "Epoch: [62/1000], Step: [100/301], Loss: 0.6748, Dev: 0.1170\n",
            "Epoch: [62/1000], Step: [200/301], Loss: 0.6743, Dev: 0.1360\n",
            "Epoch: [62/1000], Step: [300/301], Loss: 0.6409, Dev: 0.1360\n",
            "Epoch: [63/1000], Step: [100/301], Loss: 0.6707, Dev: 0.1350\n",
            "Epoch: [63/1000], Step: [200/301], Loss: 0.6830, Dev: 0.1360\n",
            "Epoch: [63/1000], Step: [300/301], Loss: 0.6774, Dev: 0.1360\n",
            "Epoch: [64/1000], Step: [100/301], Loss: 0.7016, Dev: 0.1340\n",
            "Epoch: [64/1000], Step: [200/301], Loss: 0.6600, Dev: 0.1280\n",
            "Epoch: [64/1000], Step: [300/301], Loss: 0.6752, Dev: 0.1360\n",
            "Epoch: [65/1000], Step: [100/301], Loss: 0.6814, Dev: 0.1360\n",
            "Epoch: [65/1000], Step: [200/301], Loss: 0.6697, Dev: 0.1370\n",
            "Epoch: [65/1000], Step: [300/301], Loss: 0.6780, Dev: 0.1360\n",
            "Epoch: [66/1000], Step: [100/301], Loss: 0.6735, Dev: 0.1350\n",
            "Epoch: [66/1000], Step: [200/301], Loss: 0.6805, Dev: 0.1360\n",
            "Epoch: [66/1000], Step: [300/301], Loss: 0.6826, Dev: 0.1360\n",
            "Epoch: [67/1000], Step: [100/301], Loss: 0.6623, Dev: 0.1360\n",
            "Epoch: [67/1000], Step: [200/301], Loss: 0.6805, Dev: 0.1360\n",
            "Epoch: [67/1000], Step: [300/301], Loss: 0.6763, Dev: 0.1360\n",
            "Epoch: [68/1000], Step: [100/301], Loss: 0.6834, Dev: 0.1430\n",
            "Epoch: [68/1000], Step: [200/301], Loss: 0.6636, Dev: 0.1360\n",
            "Epoch: [68/1000], Step: [300/301], Loss: 0.6539, Dev: 0.1360\n",
            "Epoch: [69/1000], Step: [100/301], Loss: 0.6736, Dev: 0.1370\n",
            "Epoch: [69/1000], Step: [200/301], Loss: 0.6772, Dev: 0.1420\n",
            "Epoch: [69/1000], Step: [300/301], Loss: 0.6844, Dev: 0.1360\n",
            "Epoch: [70/1000], Step: [100/301], Loss: 0.6552, Dev: 0.1360\n",
            "Epoch: [70/1000], Step: [200/301], Loss: 0.6981, Dev: 0.1380\n",
            "Epoch: [70/1000], Step: [300/301], Loss: 0.6749, Dev: 0.1360\n",
            "Epoch: [71/1000], Step: [100/301], Loss: 0.6698, Dev: 0.1360\n",
            "Epoch: [71/1000], Step: [200/301], Loss: 0.6628, Dev: 0.1390\n",
            "Epoch: [71/1000], Step: [300/301], Loss: 0.6356, Dev: 0.1360\n",
            "Epoch: [72/1000], Step: [100/301], Loss: 0.6450, Dev: 0.1360\n",
            "Epoch: [72/1000], Step: [200/301], Loss: 0.6877, Dev: 0.1410\n",
            "Epoch: [72/1000], Step: [300/301], Loss: 0.6550, Dev: 0.1360\n",
            "Early Stop\n",
            "61\n",
            "Epoch: [1/1000], Step: [100/301], Loss: 0.6551, Dev: 0.1380\n",
            "Epoch: [1/1000], Step: [200/301], Loss: 0.6621, Dev: 0.1380\n",
            "Epoch: [1/1000], Step: [300/301], Loss: 0.6882, Dev: 0.1370\n",
            "Epoch: [2/1000], Step: [100/301], Loss: 0.6334, Dev: 0.1370\n",
            "Epoch: [2/1000], Step: [200/301], Loss: 0.6697, Dev: 0.1370\n",
            "Epoch: [2/1000], Step: [300/301], Loss: 0.6473, Dev: 0.1420\n",
            "Epoch: [3/1000], Step: [100/301], Loss: 0.6815, Dev: 0.1380\n",
            "Epoch: [3/1000], Step: [200/301], Loss: 0.6660, Dev: 0.1380\n",
            "Epoch: [3/1000], Step: [300/301], Loss: 0.6775, Dev: 0.1510\n",
            "Epoch: [4/1000], Step: [100/301], Loss: 0.6959, Dev: 0.1430\n",
            "Epoch: [4/1000], Step: [200/301], Loss: 0.6820, Dev: 0.1530\n",
            "Epoch: [4/1000], Step: [300/301], Loss: 0.6828, Dev: 0.1580\n",
            "Epoch: [5/1000], Step: [100/301], Loss: 0.6485, Dev: 0.1570\n",
            "Epoch: [5/1000], Step: [200/301], Loss: 0.6700, Dev: 0.1600\n",
            "Epoch: [5/1000], Step: [300/301], Loss: 0.6742, Dev: 0.1640\n",
            "Epoch: [6/1000], Step: [100/301], Loss: 0.6564, Dev: 0.1690\n",
            "Epoch: [6/1000], Step: [200/301], Loss: 0.6717, Dev: 0.1750\n",
            "Epoch: [6/1000], Step: [300/301], Loss: 0.6738, Dev: 0.1690\n",
            "Epoch: [7/1000], Step: [100/301], Loss: 0.6591, Dev: 0.1790\n",
            "Epoch: [7/1000], Step: [200/301], Loss: 0.6615, Dev: 0.1680\n",
            "Epoch: [7/1000], Step: [300/301], Loss: 0.6717, Dev: 0.1780\n",
            "Epoch: [8/1000], Step: [100/301], Loss: 0.6753, Dev: 0.1750\n",
            "Epoch: [8/1000], Step: [200/301], Loss: 0.6341, Dev: 0.1790\n",
            "Epoch: [8/1000], Step: [300/301], Loss: 0.6628, Dev: 0.1830\n",
            "Epoch: [9/1000], Step: [100/301], Loss: 0.6706, Dev: 0.1840\n",
            "Epoch: [9/1000], Step: [200/301], Loss: 0.6803, Dev: 0.1940\n",
            "Epoch: [9/1000], Step: [300/301], Loss: 0.6619, Dev: 0.1940\n",
            "Epoch: [10/1000], Step: [100/301], Loss: 0.6668, Dev: 0.1930\n",
            "Epoch: [10/1000], Step: [200/301], Loss: 0.6624, Dev: 0.1860\n",
            "Epoch: [10/1000], Step: [300/301], Loss: 0.7041, Dev: 0.2020\n",
            "Epoch: [11/1000], Step: [100/301], Loss: 0.6694, Dev: 0.2140\n",
            "Epoch: [11/1000], Step: [200/301], Loss: 0.6347, Dev: 0.2040\n",
            "Epoch: [11/1000], Step: [300/301], Loss: 0.6505, Dev: 0.2070\n",
            "Epoch: [12/1000], Step: [100/301], Loss: 0.6592, Dev: 0.2300\n",
            "Epoch: [12/1000], Step: [200/301], Loss: 0.6283, Dev: 0.2130\n",
            "Epoch: [12/1000], Step: [300/301], Loss: 0.6553, Dev: 0.2130\n",
            "Epoch: [13/1000], Step: [100/301], Loss: 0.6709, Dev: 0.2290\n",
            "Epoch: [13/1000], Step: [200/301], Loss: 0.6771, Dev: 0.2260\n",
            "Epoch: [13/1000], Step: [300/301], Loss: 0.6674, Dev: 0.2260\n",
            "Epoch: [14/1000], Step: [100/301], Loss: 0.6474, Dev: 0.2280\n",
            "Epoch: [14/1000], Step: [200/301], Loss: 0.6770, Dev: 0.2290\n",
            "Epoch: [14/1000], Step: [300/301], Loss: 0.6613, Dev: 0.2310\n",
            "Epoch: [15/1000], Step: [100/301], Loss: 0.6613, Dev: 0.2470\n",
            "Epoch: [15/1000], Step: [200/301], Loss: 0.6173, Dev: 0.2410\n",
            "Epoch: [15/1000], Step: [300/301], Loss: 0.6469, Dev: 0.2360\n",
            "Epoch: [16/1000], Step: [100/301], Loss: 0.6710, Dev: 0.2540\n",
            "Epoch: [16/1000], Step: [200/301], Loss: 0.6518, Dev: 0.2450\n",
            "Epoch: [16/1000], Step: [300/301], Loss: 0.6512, Dev: 0.2450\n",
            "Epoch: [17/1000], Step: [100/301], Loss: 0.6813, Dev: 0.2480\n",
            "Epoch: [17/1000], Step: [200/301], Loss: 0.6631, Dev: 0.2530\n",
            "Epoch: [17/1000], Step: [300/301], Loss: 0.6645, Dev: 0.2530\n",
            "Epoch: [18/1000], Step: [100/301], Loss: 0.6729, Dev: 0.2390\n",
            "Epoch: [18/1000], Step: [200/301], Loss: 0.6726, Dev: 0.2560\n",
            "Epoch: [18/1000], Step: [300/301], Loss: 0.6335, Dev: 0.2580\n",
            "Epoch: [19/1000], Step: [100/301], Loss: 0.6359, Dev: 0.2650\n",
            "Epoch: [19/1000], Step: [200/301], Loss: 0.6415, Dev: 0.2580\n",
            "Epoch: [19/1000], Step: [300/301], Loss: 0.6356, Dev: 0.2630\n",
            "Epoch: [20/1000], Step: [100/301], Loss: 0.6705, Dev: 0.2670\n",
            "Epoch: [20/1000], Step: [200/301], Loss: 0.6523, Dev: 0.2720\n",
            "Epoch: [20/1000], Step: [300/301], Loss: 0.6656, Dev: 0.2680\n",
            "Epoch: [21/1000], Step: [100/301], Loss: 0.6720, Dev: 0.2710\n",
            "Epoch: [21/1000], Step: [200/301], Loss: 0.6611, Dev: 0.2690\n",
            "Epoch: [21/1000], Step: [300/301], Loss: 0.6454, Dev: 0.2710\n",
            "Epoch: [22/1000], Step: [100/301], Loss: 0.6397, Dev: 0.2710\n",
            "Epoch: [22/1000], Step: [200/301], Loss: 0.6380, Dev: 0.2780\n",
            "Epoch: [22/1000], Step: [300/301], Loss: 0.6660, Dev: 0.2790\n",
            "Epoch: [23/1000], Step: [100/301], Loss: 0.6569, Dev: 0.2870\n",
            "Epoch: [23/1000], Step: [200/301], Loss: 0.6784, Dev: 0.2930\n",
            "Epoch: [23/1000], Step: [300/301], Loss: 0.6408, Dev: 0.2810\n",
            "Epoch: [24/1000], Step: [100/301], Loss: 0.6310, Dev: 0.2790\n",
            "Epoch: [24/1000], Step: [200/301], Loss: 0.6559, Dev: 0.2850\n",
            "Epoch: [24/1000], Step: [300/301], Loss: 0.6683, Dev: 0.2880\n",
            "Epoch: [25/1000], Step: [100/301], Loss: 0.6861, Dev: 0.2890\n",
            "Epoch: [25/1000], Step: [200/301], Loss: 0.6766, Dev: 0.2960\n",
            "Epoch: [25/1000], Step: [300/301], Loss: 0.6838, Dev: 0.2940\n",
            "Epoch: [26/1000], Step: [100/301], Loss: 0.6628, Dev: 0.2960\n",
            "Epoch: [26/1000], Step: [200/301], Loss: 0.6645, Dev: 0.2960\n",
            "Epoch: [26/1000], Step: [300/301], Loss: 0.6306, Dev: 0.2980\n",
            "Epoch: [27/1000], Step: [100/301], Loss: 0.6594, Dev: 0.2900\n",
            "Epoch: [27/1000], Step: [200/301], Loss: 0.6172, Dev: 0.2870\n",
            "Epoch: [27/1000], Step: [300/301], Loss: 0.6708, Dev: 0.3040\n",
            "Epoch: [28/1000], Step: [100/301], Loss: 0.6743, Dev: 0.3040\n",
            "Epoch: [28/1000], Step: [200/301], Loss: 0.6397, Dev: 0.3100\n",
            "Epoch: [28/1000], Step: [300/301], Loss: 0.6718, Dev: 0.3050\n",
            "Epoch: [29/1000], Step: [100/301], Loss: 0.6413, Dev: 0.3190\n",
            "Epoch: [29/1000], Step: [200/301], Loss: 0.6307, Dev: 0.3100\n",
            "Epoch: [29/1000], Step: [300/301], Loss: 0.6673, Dev: 0.3070\n",
            "Epoch: [30/1000], Step: [100/301], Loss: 0.6019, Dev: 0.3090\n",
            "Epoch: [30/1000], Step: [200/301], Loss: 0.6531, Dev: 0.3050\n",
            "Epoch: [30/1000], Step: [300/301], Loss: 0.6704, Dev: 0.3110\n",
            "Epoch: [31/1000], Step: [100/301], Loss: 0.5972, Dev: 0.3150\n",
            "Epoch: [31/1000], Step: [200/301], Loss: 0.6322, Dev: 0.3130\n",
            "Epoch: [31/1000], Step: [300/301], Loss: 0.6389, Dev: 0.3130\n",
            "Epoch: [32/1000], Step: [100/301], Loss: 0.6754, Dev: 0.3240\n",
            "Epoch: [32/1000], Step: [200/301], Loss: 0.6364, Dev: 0.3240\n",
            "Epoch: [32/1000], Step: [300/301], Loss: 0.6412, Dev: 0.3150\n",
            "Epoch: [33/1000], Step: [100/301], Loss: 0.6941, Dev: 0.3170\n",
            "Epoch: [33/1000], Step: [200/301], Loss: 0.6577, Dev: 0.3260\n",
            "Epoch: [33/1000], Step: [300/301], Loss: 0.6523, Dev: 0.3180\n",
            "Epoch: [34/1000], Step: [100/301], Loss: 0.6444, Dev: 0.3160\n",
            "Epoch: [34/1000], Step: [200/301], Loss: 0.6279, Dev: 0.3200\n",
            "Epoch: [34/1000], Step: [300/301], Loss: 0.6405, Dev: 0.3210\n",
            "Epoch: [35/1000], Step: [100/301], Loss: 0.6264, Dev: 0.3250\n",
            "Epoch: [35/1000], Step: [200/301], Loss: 0.6670, Dev: 0.3280\n",
            "Epoch: [35/1000], Step: [300/301], Loss: 0.6607, Dev: 0.3220\n",
            "Epoch: [36/1000], Step: [100/301], Loss: 0.6473, Dev: 0.3240\n",
            "Epoch: [36/1000], Step: [200/301], Loss: 0.5551, Dev: 0.3300\n",
            "Epoch: [36/1000], Step: [300/301], Loss: 0.6577, Dev: 0.3290\n",
            "Epoch: [37/1000], Step: [100/301], Loss: 0.6567, Dev: 0.3300\n",
            "Epoch: [37/1000], Step: [200/301], Loss: 0.6202, Dev: 0.3290\n",
            "Epoch: [37/1000], Step: [300/301], Loss: 0.5960, Dev: 0.3320\n",
            "Epoch: [38/1000], Step: [100/301], Loss: 0.6552, Dev: 0.3260\n",
            "Epoch: [38/1000], Step: [200/301], Loss: 0.6452, Dev: 0.3270\n",
            "Epoch: [38/1000], Step: [300/301], Loss: 0.6818, Dev: 0.3350\n",
            "Epoch: [39/1000], Step: [100/301], Loss: 0.6917, Dev: 0.3290\n",
            "Epoch: [39/1000], Step: [200/301], Loss: 0.6079, Dev: 0.3280\n",
            "Epoch: [39/1000], Step: [300/301], Loss: 0.6207, Dev: 0.3360\n",
            "Epoch: [40/1000], Step: [100/301], Loss: 0.6625, Dev: 0.3450\n",
            "Epoch: [40/1000], Step: [200/301], Loss: 0.5585, Dev: 0.3400\n",
            "Epoch: [40/1000], Step: [300/301], Loss: 0.6899, Dev: 0.3400\n",
            "Epoch: [41/1000], Step: [100/301], Loss: 0.6238, Dev: 0.3360\n",
            "Epoch: [41/1000], Step: [200/301], Loss: 0.6228, Dev: 0.3380\n",
            "Epoch: [41/1000], Step: [300/301], Loss: 0.6511, Dev: 0.3410\n",
            "Epoch: [42/1000], Step: [100/301], Loss: 0.6614, Dev: 0.3320\n",
            "Epoch: [42/1000], Step: [200/301], Loss: 0.6596, Dev: 0.3310\n",
            "Epoch: [42/1000], Step: [300/301], Loss: 0.6641, Dev: 0.3500\n",
            "Epoch: [43/1000], Step: [100/301], Loss: 0.6522, Dev: 0.3480\n",
            "Epoch: [43/1000], Step: [200/301], Loss: 0.6448, Dev: 0.3560\n",
            "Epoch: [43/1000], Step: [300/301], Loss: 0.6593, Dev: 0.3460\n",
            "Epoch: [44/1000], Step: [100/301], Loss: 0.6275, Dev: 0.3480\n",
            "Epoch: [44/1000], Step: [200/301], Loss: 0.6694, Dev: 0.3430\n",
            "Epoch: [44/1000], Step: [300/301], Loss: 0.6712, Dev: 0.3530\n",
            "Epoch: [45/1000], Step: [100/301], Loss: 0.6006, Dev: 0.3530\n",
            "Epoch: [45/1000], Step: [200/301], Loss: 0.6662, Dev: 0.3520\n",
            "Epoch: [45/1000], Step: [300/301], Loss: 0.6231, Dev: 0.3600\n",
            "Epoch: [46/1000], Step: [100/301], Loss: 0.6489, Dev: 0.3600\n",
            "Epoch: [46/1000], Step: [200/301], Loss: 0.5892, Dev: 0.3520\n",
            "Epoch: [46/1000], Step: [300/301], Loss: 0.6455, Dev: 0.3580\n",
            "Epoch: [47/1000], Step: [100/301], Loss: 0.5991, Dev: 0.3650\n",
            "Epoch: [47/1000], Step: [200/301], Loss: 0.5870, Dev: 0.3660\n",
            "Epoch: [47/1000], Step: [300/301], Loss: 0.5985, Dev: 0.3610\n",
            "Epoch: [48/1000], Step: [100/301], Loss: 0.6545, Dev: 0.3500\n",
            "Epoch: [48/1000], Step: [200/301], Loss: 0.6273, Dev: 0.3470\n",
            "Epoch: [48/1000], Step: [300/301], Loss: 0.5461, Dev: 0.3630\n",
            "Epoch: [49/1000], Step: [100/301], Loss: 0.6579, Dev: 0.3510\n",
            "Epoch: [49/1000], Step: [200/301], Loss: 0.6636, Dev: 0.3680\n",
            "Epoch: [49/1000], Step: [300/301], Loss: 0.6724, Dev: 0.3680\n",
            "Epoch: [50/1000], Step: [100/301], Loss: 0.6160, Dev: 0.3690\n",
            "Epoch: [50/1000], Step: [200/301], Loss: 0.6483, Dev: 0.3710\n",
            "Epoch: [50/1000], Step: [300/301], Loss: 0.6445, Dev: 0.3680\n",
            "Epoch: [51/1000], Step: [100/301], Loss: 0.6213, Dev: 0.3700\n",
            "Epoch: [51/1000], Step: [200/301], Loss: 0.6182, Dev: 0.3710\n",
            "Epoch: [51/1000], Step: [300/301], Loss: 0.6220, Dev: 0.3700\n",
            "Epoch: [52/1000], Step: [100/301], Loss: 0.6723, Dev: 0.3710\n",
            "Epoch: [52/1000], Step: [200/301], Loss: 0.6669, Dev: 0.3730\n",
            "Epoch: [52/1000], Step: [300/301], Loss: 0.6144, Dev: 0.3730\n",
            "Epoch: [53/1000], Step: [100/301], Loss: 0.6454, Dev: 0.3740\n",
            "Epoch: [53/1000], Step: [200/301], Loss: 0.6749, Dev: 0.3760\n",
            "Epoch: [53/1000], Step: [300/301], Loss: 0.6416, Dev: 0.3730\n",
            "Epoch: [54/1000], Step: [100/301], Loss: 0.6247, Dev: 0.3650\n",
            "Epoch: [54/1000], Step: [200/301], Loss: 0.6501, Dev: 0.3770\n",
            "Epoch: [54/1000], Step: [300/301], Loss: 0.6562, Dev: 0.3780\n",
            "Epoch: [55/1000], Step: [100/301], Loss: 0.6615, Dev: 0.3780\n",
            "Epoch: [55/1000], Step: [200/301], Loss: 0.5979, Dev: 0.3770\n",
            "Epoch: [55/1000], Step: [300/301], Loss: 0.6402, Dev: 0.3780\n",
            "Epoch: [56/1000], Step: [100/301], Loss: 0.6892, Dev: 0.3790\n",
            "Epoch: [56/1000], Step: [200/301], Loss: 0.6317, Dev: 0.3750\n",
            "Epoch: [56/1000], Step: [300/301], Loss: 0.6568, Dev: 0.3780\n",
            "Epoch: [57/1000], Step: [100/301], Loss: 0.6544, Dev: 0.3820\n",
            "Epoch: [57/1000], Step: [200/301], Loss: 0.5769, Dev: 0.3840\n",
            "Epoch: [57/1000], Step: [300/301], Loss: 0.6312, Dev: 0.3820\n",
            "Epoch: [58/1000], Step: [100/301], Loss: 0.6296, Dev: 0.3850\n",
            "Epoch: [58/1000], Step: [200/301], Loss: 0.6326, Dev: 0.3800\n",
            "Epoch: [58/1000], Step: [300/301], Loss: 0.6384, Dev: 0.3880\n",
            "Epoch: [59/1000], Step: [100/301], Loss: 0.6633, Dev: 0.3760\n",
            "Epoch: [59/1000], Step: [200/301], Loss: 0.6571, Dev: 0.3790\n",
            "Epoch: [59/1000], Step: [300/301], Loss: 0.6691, Dev: 0.3910\n",
            "Epoch: [60/1000], Step: [100/301], Loss: 0.5988, Dev: 0.3900\n",
            "Epoch: [60/1000], Step: [200/301], Loss: 0.5921, Dev: 0.3870\n",
            "Epoch: [60/1000], Step: [300/301], Loss: 0.6176, Dev: 0.3920\n",
            "Epoch: [61/1000], Step: [100/301], Loss: 0.6149, Dev: 0.3920\n",
            "Epoch: [61/1000], Step: [200/301], Loss: 0.6696, Dev: 0.3920\n",
            "Epoch: [61/1000], Step: [300/301], Loss: 0.6450, Dev: 0.3950\n",
            "Epoch: [62/1000], Step: [100/301], Loss: 0.6697, Dev: 0.3920\n",
            "Epoch: [62/1000], Step: [200/301], Loss: 0.6058, Dev: 0.3930\n",
            "Epoch: [62/1000], Step: [300/301], Loss: 0.6316, Dev: 0.3960\n",
            "Epoch: [63/1000], Step: [100/301], Loss: 0.6190, Dev: 0.3940\n",
            "Epoch: [63/1000], Step: [200/301], Loss: 0.6821, Dev: 0.3900\n",
            "Epoch: [63/1000], Step: [300/301], Loss: 0.6148, Dev: 0.3980\n",
            "Epoch: [64/1000], Step: [100/301], Loss: 0.6449, Dev: 0.3970\n",
            "Epoch: [64/1000], Step: [200/301], Loss: 0.6149, Dev: 0.4020\n",
            "Epoch: [64/1000], Step: [300/301], Loss: 0.5806, Dev: 0.3970\n",
            "Epoch: [65/1000], Step: [100/301], Loss: 0.6244, Dev: 0.3980\n",
            "Epoch: [65/1000], Step: [200/301], Loss: 0.6447, Dev: 0.3940\n",
            "Epoch: [65/1000], Step: [300/301], Loss: 0.6229, Dev: 0.4020\n",
            "Epoch: [66/1000], Step: [100/301], Loss: 0.6058, Dev: 0.4020\n",
            "Epoch: [66/1000], Step: [200/301], Loss: 0.6564, Dev: 0.4020\n",
            "Epoch: [66/1000], Step: [300/301], Loss: 0.6473, Dev: 0.4030\n",
            "Epoch: [67/1000], Step: [100/301], Loss: 0.6527, Dev: 0.4070\n",
            "Epoch: [67/1000], Step: [200/301], Loss: 0.6378, Dev: 0.4060\n",
            "Epoch: [67/1000], Step: [300/301], Loss: 0.6004, Dev: 0.4040\n",
            "Epoch: [68/1000], Step: [100/301], Loss: 0.6496, Dev: 0.4200\n",
            "Epoch: [68/1000], Step: [200/301], Loss: 0.5849, Dev: 0.4020\n",
            "Epoch: [68/1000], Step: [300/301], Loss: 0.5784, Dev: 0.4040\n",
            "Epoch: [69/1000], Step: [100/301], Loss: 0.4760, Dev: 0.4130\n",
            "Epoch: [69/1000], Step: [200/301], Loss: 0.6644, Dev: 0.3990\n",
            "Epoch: [69/1000], Step: [300/301], Loss: 0.5862, Dev: 0.4070\n",
            "Epoch: [70/1000], Step: [100/301], Loss: 0.6546, Dev: 0.4060\n",
            "Epoch: [70/1000], Step: [200/301], Loss: 0.6535, Dev: 0.4090\n",
            "Epoch: [70/1000], Step: [300/301], Loss: 0.6184, Dev: 0.4120\n",
            "Epoch: [71/1000], Step: [100/301], Loss: 0.6111, Dev: 0.4120\n",
            "Epoch: [71/1000], Step: [200/301], Loss: 0.6629, Dev: 0.4070\n",
            "Epoch: [71/1000], Step: [300/301], Loss: 0.6040, Dev: 0.4120\n",
            "Epoch: [72/1000], Step: [100/301], Loss: 0.6127, Dev: 0.4180\n",
            "Epoch: [72/1000], Step: [200/301], Loss: 0.6210, Dev: 0.4170\n",
            "Epoch: [72/1000], Step: [300/301], Loss: 0.6042, Dev: 0.4130\n",
            "Epoch: [73/1000], Step: [100/301], Loss: 0.6293, Dev: 0.4130\n",
            "Epoch: [73/1000], Step: [200/301], Loss: 0.6084, Dev: 0.4130\n",
            "Epoch: [73/1000], Step: [300/301], Loss: 0.5994, Dev: 0.4160\n",
            "Epoch: [74/1000], Step: [100/301], Loss: 0.6326, Dev: 0.4060\n",
            "Epoch: [74/1000], Step: [200/301], Loss: 0.6235, Dev: 0.4090\n",
            "Epoch: [74/1000], Step: [300/301], Loss: 0.6531, Dev: 0.4190\n",
            "Epoch: [75/1000], Step: [100/301], Loss: 0.6438, Dev: 0.4190\n",
            "Epoch: [75/1000], Step: [200/301], Loss: 0.6371, Dev: 0.4190\n",
            "Epoch: [75/1000], Step: [300/301], Loss: 0.5919, Dev: 0.4180\n",
            "Epoch: [76/1000], Step: [100/301], Loss: 0.5639, Dev: 0.4160\n",
            "Epoch: [76/1000], Step: [200/301], Loss: 0.6271, Dev: 0.4190\n",
            "Epoch: [76/1000], Step: [300/301], Loss: 0.6373, Dev: 0.4180\n",
            "Epoch: [77/1000], Step: [100/301], Loss: 0.6108, Dev: 0.4240\n",
            "Epoch: [77/1000], Step: [200/301], Loss: 0.6145, Dev: 0.4180\n",
            "Epoch: [77/1000], Step: [300/301], Loss: 0.6224, Dev: 0.4200\n",
            "Epoch: [78/1000], Step: [100/301], Loss: 0.5967, Dev: 0.4210\n",
            "Epoch: [78/1000], Step: [200/301], Loss: 0.6201, Dev: 0.4180\n",
            "Epoch: [78/1000], Step: [300/301], Loss: 0.6069, Dev: 0.4190\n",
            "Epoch: [79/1000], Step: [100/301], Loss: 0.6709, Dev: 0.4150\n",
            "Epoch: [79/1000], Step: [200/301], Loss: 0.6511, Dev: 0.4170\n",
            "Epoch: [79/1000], Step: [300/301], Loss: 0.6359, Dev: 0.4230\n",
            "Epoch: [80/1000], Step: [100/301], Loss: 0.6463, Dev: 0.4230\n",
            "Epoch: [80/1000], Step: [200/301], Loss: 0.6589, Dev: 0.4280\n",
            "Epoch: [80/1000], Step: [300/301], Loss: 0.6413, Dev: 0.4220\n",
            "Epoch: [81/1000], Step: [100/301], Loss: 0.6350, Dev: 0.4250\n",
            "Epoch: [81/1000], Step: [200/301], Loss: 0.6636, Dev: 0.4210\n",
            "Epoch: [81/1000], Step: [300/301], Loss: 0.6167, Dev: 0.4240\n",
            "Epoch: [82/1000], Step: [100/301], Loss: 0.6308, Dev: 0.4190\n",
            "Epoch: [82/1000], Step: [200/301], Loss: 0.6569, Dev: 0.4210\n",
            "Epoch: [82/1000], Step: [300/301], Loss: 0.6214, Dev: 0.4260\n",
            "Epoch: [83/1000], Step: [100/301], Loss: 0.6220, Dev: 0.4320\n",
            "Epoch: [83/1000], Step: [200/301], Loss: 0.6509, Dev: 0.4270\n",
            "Epoch: [83/1000], Step: [300/301], Loss: 0.6765, Dev: 0.4240\n",
            "Epoch: [84/1000], Step: [100/301], Loss: 0.5463, Dev: 0.4270\n",
            "Epoch: [84/1000], Step: [200/301], Loss: 0.6246, Dev: 0.4270\n",
            "Epoch: [84/1000], Step: [300/301], Loss: 0.7089, Dev: 0.4290\n",
            "Epoch: [85/1000], Step: [100/301], Loss: 0.6814, Dev: 0.4280\n",
            "Epoch: [85/1000], Step: [200/301], Loss: 0.6214, Dev: 0.4220\n",
            "Epoch: [85/1000], Step: [300/301], Loss: 0.6890, Dev: 0.4270\n",
            "Epoch: [86/1000], Step: [100/301], Loss: 0.6396, Dev: 0.4270\n",
            "Epoch: [86/1000], Step: [200/301], Loss: 0.5998, Dev: 0.4340\n",
            "Epoch: [86/1000], Step: [300/301], Loss: 0.5981, Dev: 0.4300\n",
            "Epoch: [87/1000], Step: [100/301], Loss: 0.6236, Dev: 0.4350\n",
            "Epoch: [87/1000], Step: [200/301], Loss: 0.6284, Dev: 0.4270\n",
            "Epoch: [87/1000], Step: [300/301], Loss: 0.6539, Dev: 0.4310\n",
            "Epoch: [88/1000], Step: [100/301], Loss: 0.6070, Dev: 0.4270\n",
            "Epoch: [88/1000], Step: [200/301], Loss: 0.6617, Dev: 0.4330\n",
            "Epoch: [88/1000], Step: [300/301], Loss: 0.6020, Dev: 0.4320\n",
            "Epoch: [89/1000], Step: [100/301], Loss: 0.6286, Dev: 0.4290\n",
            "Epoch: [89/1000], Step: [200/301], Loss: 0.5710, Dev: 0.4360\n",
            "Epoch: [89/1000], Step: [300/301], Loss: 0.6070, Dev: 0.4340\n",
            "Epoch: [90/1000], Step: [100/301], Loss: 0.7076, Dev: 0.4350\n",
            "Epoch: [90/1000], Step: [200/301], Loss: 0.6911, Dev: 0.4270\n",
            "Epoch: [90/1000], Step: [300/301], Loss: 0.6085, Dev: 0.4350\n",
            "Epoch: [91/1000], Step: [100/301], Loss: 0.6112, Dev: 0.4480\n",
            "Epoch: [91/1000], Step: [200/301], Loss: 0.5734, Dev: 0.4370\n",
            "Epoch: [91/1000], Step: [300/301], Loss: 0.6477, Dev: 0.4340\n",
            "Epoch: [92/1000], Step: [100/301], Loss: 0.5840, Dev: 0.4440\n",
            "Epoch: [92/1000], Step: [200/301], Loss: 0.6377, Dev: 0.4370\n",
            "Epoch: [92/1000], Step: [300/301], Loss: 0.6119, Dev: 0.4380\n",
            "Epoch: [93/1000], Step: [100/301], Loss: 0.6763, Dev: 0.4430\n",
            "Epoch: [93/1000], Step: [200/301], Loss: 0.6041, Dev: 0.4400\n",
            "Epoch: [93/1000], Step: [300/301], Loss: 0.5864, Dev: 0.4410\n",
            "Epoch: [94/1000], Step: [100/301], Loss: 0.6525, Dev: 0.4290\n",
            "Epoch: [94/1000], Step: [200/301], Loss: 0.5702, Dev: 0.4360\n",
            "Epoch: [94/1000], Step: [300/301], Loss: 0.6544, Dev: 0.4440\n",
            "Epoch: [95/1000], Step: [100/301], Loss: 0.5973, Dev: 0.4420\n",
            "Epoch: [95/1000], Step: [200/301], Loss: 0.5883, Dev: 0.4430\n",
            "Epoch: [95/1000], Step: [300/301], Loss: 0.5269, Dev: 0.4420\n",
            "Epoch: [96/1000], Step: [100/301], Loss: 0.6233, Dev: 0.4470\n",
            "Epoch: [96/1000], Step: [200/301], Loss: 0.6280, Dev: 0.4420\n",
            "Epoch: [96/1000], Step: [300/301], Loss: 0.6422, Dev: 0.4450\n",
            "Epoch: [97/1000], Step: [100/301], Loss: 0.6437, Dev: 0.4370\n",
            "Epoch: [97/1000], Step: [200/301], Loss: 0.6588, Dev: 0.4450\n",
            "Epoch: [97/1000], Step: [300/301], Loss: 0.5852, Dev: 0.4440\n",
            "Epoch: [98/1000], Step: [100/301], Loss: 0.6166, Dev: 0.4460\n",
            "Epoch: [98/1000], Step: [200/301], Loss: 0.6828, Dev: 0.4430\n",
            "Epoch: [98/1000], Step: [300/301], Loss: 0.6289, Dev: 0.4450\n",
            "Epoch: [99/1000], Step: [100/301], Loss: 0.6375, Dev: 0.4480\n",
            "Epoch: [99/1000], Step: [200/301], Loss: 0.6315, Dev: 0.4480\n",
            "Epoch: [99/1000], Step: [300/301], Loss: 0.6280, Dev: 0.4450\n",
            "Epoch: [100/1000], Step: [100/301], Loss: 0.6708, Dev: 0.4430\n",
            "Epoch: [100/1000], Step: [200/301], Loss: 0.5495, Dev: 0.4460\n",
            "Epoch: [100/1000], Step: [300/301], Loss: 0.6250, Dev: 0.4460\n",
            "Epoch: [101/1000], Step: [100/301], Loss: 0.6082, Dev: 0.4470\n",
            "Epoch: [101/1000], Step: [200/301], Loss: 0.6171, Dev: 0.4430\n",
            "Epoch: [101/1000], Step: [300/301], Loss: 0.6057, Dev: 0.4460\n",
            "Epoch: [102/1000], Step: [100/301], Loss: 0.5651, Dev: 0.4410\n",
            "Epoch: [102/1000], Step: [200/301], Loss: 0.6357, Dev: 0.4440\n",
            "Epoch: [102/1000], Step: [300/301], Loss: 0.5986, Dev: 0.4460\n",
            "Epoch: [103/1000], Step: [100/301], Loss: 0.6096, Dev: 0.4410\n",
            "Epoch: [103/1000], Step: [200/301], Loss: 0.6535, Dev: 0.4440\n",
            "Epoch: [103/1000], Step: [300/301], Loss: 0.5771, Dev: 0.4470\n",
            "Epoch: [104/1000], Step: [100/301], Loss: 0.6658, Dev: 0.4500\n",
            "Epoch: [104/1000], Step: [200/301], Loss: 0.5386, Dev: 0.4500\n",
            "Epoch: [104/1000], Step: [300/301], Loss: 0.5986, Dev: 0.4490\n",
            "Epoch: [105/1000], Step: [100/301], Loss: 0.6528, Dev: 0.4510\n",
            "Epoch: [105/1000], Step: [200/301], Loss: 0.6258, Dev: 0.4460\n",
            "Epoch: [105/1000], Step: [300/301], Loss: 0.6194, Dev: 0.4480\n",
            "Epoch: [106/1000], Step: [100/301], Loss: 0.5683, Dev: 0.4520\n",
            "Epoch: [106/1000], Step: [200/301], Loss: 0.6871, Dev: 0.4470\n",
            "Epoch: [106/1000], Step: [300/301], Loss: 0.6205, Dev: 0.4490\n",
            "Epoch: [107/1000], Step: [100/301], Loss: 0.6207, Dev: 0.4520\n",
            "Epoch: [107/1000], Step: [200/301], Loss: 0.6409, Dev: 0.4520\n",
            "Epoch: [107/1000], Step: [300/301], Loss: 0.5899, Dev: 0.4510\n",
            "Epoch: [108/1000], Step: [100/301], Loss: 0.6287, Dev: 0.4480\n",
            "Epoch: [108/1000], Step: [200/301], Loss: 0.6217, Dev: 0.4530\n",
            "Epoch: [108/1000], Step: [300/301], Loss: 0.6123, Dev: 0.4510\n",
            "Epoch: [109/1000], Step: [100/301], Loss: 0.6442, Dev: 0.4450\n",
            "Epoch: [109/1000], Step: [200/301], Loss: 0.6145, Dev: 0.4500\n",
            "Epoch: [109/1000], Step: [300/301], Loss: 0.6356, Dev: 0.4500\n",
            "Epoch: [110/1000], Step: [100/301], Loss: 0.6536, Dev: 0.4510\n",
            "Epoch: [110/1000], Step: [200/301], Loss: 0.6239, Dev: 0.4550\n",
            "Epoch: [110/1000], Step: [300/301], Loss: 0.5250, Dev: 0.4520\n",
            "Epoch: [111/1000], Step: [100/301], Loss: 0.6308, Dev: 0.4520\n",
            "Epoch: [111/1000], Step: [200/301], Loss: 0.6411, Dev: 0.4550\n",
            "Epoch: [111/1000], Step: [300/301], Loss: 0.5956, Dev: 0.4510\n",
            "Epoch: [112/1000], Step: [100/301], Loss: 0.5675, Dev: 0.4590\n",
            "Epoch: [112/1000], Step: [200/301], Loss: 0.6543, Dev: 0.4520\n",
            "Epoch: [112/1000], Step: [300/301], Loss: 0.5938, Dev: 0.4510\n",
            "Epoch: [113/1000], Step: [100/301], Loss: 0.5939, Dev: 0.4540\n",
            "Epoch: [113/1000], Step: [200/301], Loss: 0.5496, Dev: 0.4450\n",
            "Epoch: [113/1000], Step: [300/301], Loss: 0.6586, Dev: 0.4520\n",
            "Epoch: [114/1000], Step: [100/301], Loss: 0.6116, Dev: 0.4500\n",
            "Epoch: [114/1000], Step: [200/301], Loss: 0.6105, Dev: 0.4510\n",
            "Epoch: [114/1000], Step: [300/301], Loss: 0.6537, Dev: 0.4550\n",
            "Epoch: [115/1000], Step: [100/301], Loss: 0.6224, Dev: 0.4500\n",
            "Epoch: [115/1000], Step: [200/301], Loss: 0.6809, Dev: 0.4600\n",
            "Epoch: [115/1000], Step: [300/301], Loss: 0.6583, Dev: 0.4550\n",
            "Epoch: [116/1000], Step: [100/301], Loss: 0.6330, Dev: 0.4530\n",
            "Epoch: [116/1000], Step: [200/301], Loss: 0.6300, Dev: 0.4580\n",
            "Epoch: [116/1000], Step: [300/301], Loss: 0.6044, Dev: 0.4580\n",
            "Epoch: [117/1000], Step: [100/301], Loss: 0.6078, Dev: 0.4560\n",
            "Epoch: [117/1000], Step: [200/301], Loss: 0.6391, Dev: 0.4590\n",
            "Epoch: [117/1000], Step: [300/301], Loss: 0.5913, Dev: 0.4580\n",
            "Epoch: [118/1000], Step: [100/301], Loss: 0.6381, Dev: 0.4570\n",
            "Epoch: [118/1000], Step: [200/301], Loss: 0.5725, Dev: 0.4600\n",
            "Epoch: [118/1000], Step: [300/301], Loss: 0.6478, Dev: 0.4610\n",
            "Epoch: [119/1000], Step: [100/301], Loss: 0.6212, Dev: 0.4590\n",
            "Epoch: [119/1000], Step: [200/301], Loss: 0.6013, Dev: 0.4590\n",
            "Epoch: [119/1000], Step: [300/301], Loss: 0.6243, Dev: 0.4610\n",
            "Epoch: [120/1000], Step: [100/301], Loss: 0.6524, Dev: 0.4600\n",
            "Epoch: [120/1000], Step: [200/301], Loss: 0.6459, Dev: 0.4570\n",
            "Epoch: [120/1000], Step: [300/301], Loss: 0.6649, Dev: 0.4620\n",
            "Epoch: [121/1000], Step: [100/301], Loss: 0.6300, Dev: 0.4620\n",
            "Epoch: [121/1000], Step: [200/301], Loss: 0.6514, Dev: 0.4680\n",
            "Epoch: [121/1000], Step: [300/301], Loss: 0.6098, Dev: 0.4620\n",
            "Epoch: [122/1000], Step: [100/301], Loss: 0.6252, Dev: 0.4620\n",
            "Epoch: [122/1000], Step: [200/301], Loss: 0.6182, Dev: 0.4610\n",
            "Epoch: [122/1000], Step: [300/301], Loss: 0.4916, Dev: 0.4620\n",
            "Epoch: [123/1000], Step: [100/301], Loss: 0.6044, Dev: 0.4620\n",
            "Epoch: [123/1000], Step: [200/301], Loss: 0.5544, Dev: 0.4620\n",
            "Epoch: [123/1000], Step: [300/301], Loss: 0.6301, Dev: 0.4620\n",
            "Epoch: [124/1000], Step: [100/301], Loss: 0.6374, Dev: 0.4640\n",
            "Epoch: [124/1000], Step: [200/301], Loss: 0.6307, Dev: 0.4660\n",
            "Epoch: [124/1000], Step: [300/301], Loss: 0.6671, Dev: 0.4620\n",
            "Epoch: [125/1000], Step: [100/301], Loss: 0.5853, Dev: 0.4620\n",
            "Epoch: [125/1000], Step: [200/301], Loss: 0.6007, Dev: 0.4600\n",
            "Epoch: [125/1000], Step: [300/301], Loss: 0.6211, Dev: 0.4640\n",
            "Epoch: [126/1000], Step: [100/301], Loss: 0.5658, Dev: 0.4620\n",
            "Epoch: [126/1000], Step: [200/301], Loss: 0.5494, Dev: 0.4590\n",
            "Epoch: [126/1000], Step: [300/301], Loss: 0.5667, Dev: 0.4660\n",
            "Epoch: [127/1000], Step: [100/301], Loss: 0.6350, Dev: 0.4740\n",
            "Epoch: [127/1000], Step: [200/301], Loss: 0.6184, Dev: 0.4690\n",
            "Epoch: [127/1000], Step: [300/301], Loss: 0.5943, Dev: 0.4640\n",
            "Epoch: [128/1000], Step: [100/301], Loss: 0.6100, Dev: 0.4670\n",
            "Epoch: [128/1000], Step: [200/301], Loss: 0.5808, Dev: 0.4630\n",
            "Epoch: [128/1000], Step: [300/301], Loss: 0.6553, Dev: 0.4650\n",
            "Epoch: [129/1000], Step: [100/301], Loss: 0.6286, Dev: 0.4650\n",
            "Epoch: [129/1000], Step: [200/301], Loss: 0.6630, Dev: 0.4680\n",
            "Epoch: [129/1000], Step: [300/301], Loss: 0.6288, Dev: 0.4650\n",
            "Epoch: [130/1000], Step: [100/301], Loss: 0.6070, Dev: 0.4670\n",
            "Epoch: [130/1000], Step: [200/301], Loss: 0.5971, Dev: 0.4650\n",
            "Epoch: [130/1000], Step: [300/301], Loss: 0.6336, Dev: 0.4670\n",
            "Epoch: [131/1000], Step: [100/301], Loss: 0.6664, Dev: 0.4660\n",
            "Epoch: [131/1000], Step: [200/301], Loss: 0.4862, Dev: 0.4680\n",
            "Epoch: [131/1000], Step: [300/301], Loss: 0.5963, Dev: 0.4670\n",
            "Epoch: [132/1000], Step: [100/301], Loss: 0.6007, Dev: 0.4680\n",
            "Epoch: [132/1000], Step: [200/301], Loss: 0.5844, Dev: 0.4700\n",
            "Epoch: [132/1000], Step: [300/301], Loss: 0.5990, Dev: 0.4680\n",
            "Epoch: [133/1000], Step: [100/301], Loss: 0.6404, Dev: 0.4680\n",
            "Epoch: [133/1000], Step: [200/301], Loss: 0.6256, Dev: 0.4710\n",
            "Epoch: [133/1000], Step: [300/301], Loss: 0.5267, Dev: 0.4680\n",
            "Epoch: [134/1000], Step: [100/301], Loss: 0.5326, Dev: 0.4680\n",
            "Epoch: [134/1000], Step: [200/301], Loss: 0.5855, Dev: 0.4680\n",
            "Epoch: [134/1000], Step: [300/301], Loss: 0.5842, Dev: 0.4680\n",
            "Epoch: [135/1000], Step: [100/301], Loss: 0.5697, Dev: 0.4680\n",
            "Epoch: [135/1000], Step: [200/301], Loss: 0.5427, Dev: 0.4670\n",
            "Epoch: [135/1000], Step: [300/301], Loss: 0.6257, Dev: 0.4680\n",
            "Epoch: [136/1000], Step: [100/301], Loss: 0.5962, Dev: 0.4680\n",
            "Epoch: [136/1000], Step: [200/301], Loss: 0.6459, Dev: 0.4670\n",
            "Epoch: [136/1000], Step: [300/301], Loss: 0.5891, Dev: 0.4680\n",
            "Epoch: [137/1000], Step: [100/301], Loss: 0.5784, Dev: 0.4690\n",
            "Epoch: [137/1000], Step: [200/301], Loss: 0.5082, Dev: 0.4730\n",
            "Epoch: [137/1000], Step: [300/301], Loss: 0.5880, Dev: 0.4680\n",
            "Epoch: [138/1000], Step: [100/301], Loss: 0.5373, Dev: 0.4680\n",
            "Epoch: [138/1000], Step: [200/301], Loss: 0.5818, Dev: 0.4640\n",
            "Epoch: [138/1000], Step: [300/301], Loss: 0.5700, Dev: 0.4680\n",
            "Epoch: [139/1000], Step: [100/301], Loss: 0.5170, Dev: 0.4670\n",
            "Epoch: [139/1000], Step: [200/301], Loss: 0.4725, Dev: 0.4680\n",
            "Epoch: [139/1000], Step: [300/301], Loss: 0.5747, Dev: 0.4690\n",
            "Epoch: [140/1000], Step: [100/301], Loss: 0.6388, Dev: 0.4680\n",
            "Epoch: [140/1000], Step: [200/301], Loss: 0.5901, Dev: 0.4690\n",
            "Epoch: [140/1000], Step: [300/301], Loss: 0.6273, Dev: 0.4690\n",
            "Epoch: [141/1000], Step: [100/301], Loss: 0.5437, Dev: 0.4700\n",
            "Epoch: [141/1000], Step: [200/301], Loss: 0.6357, Dev: 0.4700\n",
            "Epoch: [141/1000], Step: [300/301], Loss: 0.6593, Dev: 0.4700\n",
            "Epoch: [142/1000], Step: [100/301], Loss: 0.6316, Dev: 0.4700\n",
            "Epoch: [142/1000], Step: [200/301], Loss: 0.5779, Dev: 0.4690\n",
            "Epoch: [142/1000], Step: [300/301], Loss: 0.6169, Dev: 0.4700\n",
            "Epoch: [143/1000], Step: [100/301], Loss: 0.6083, Dev: 0.4700\n",
            "Epoch: [143/1000], Step: [200/301], Loss: 0.6106, Dev: 0.4710\n",
            "Epoch: [143/1000], Step: [300/301], Loss: 0.6352, Dev: 0.4700\n",
            "Epoch: [144/1000], Step: [100/301], Loss: 0.6380, Dev: 0.4720\n",
            "Epoch: [144/1000], Step: [200/301], Loss: 0.6162, Dev: 0.4710\n",
            "Epoch: [144/1000], Step: [300/301], Loss: 0.5807, Dev: 0.4700\n",
            "Epoch: [145/1000], Step: [100/301], Loss: 0.6392, Dev: 0.4710\n",
            "Epoch: [145/1000], Step: [200/301], Loss: 0.6134, Dev: 0.4720\n",
            "Epoch: [145/1000], Step: [300/301], Loss: 0.5949, Dev: 0.4710\n",
            "Epoch: [146/1000], Step: [100/301], Loss: 0.4876, Dev: 0.4680\n",
            "Epoch: [146/1000], Step: [200/301], Loss: 0.5761, Dev: 0.4700\n",
            "Epoch: [146/1000], Step: [300/301], Loss: 0.5986, Dev: 0.4710\n",
            "Epoch: [147/1000], Step: [100/301], Loss: 0.5581, Dev: 0.4710\n",
            "Epoch: [147/1000], Step: [200/301], Loss: 0.6378, Dev: 0.4710\n",
            "Epoch: [147/1000], Step: [300/301], Loss: 0.5275, Dev: 0.4720\n",
            "Epoch: [148/1000], Step: [100/301], Loss: 0.5731, Dev: 0.4670\n",
            "Epoch: [148/1000], Step: [200/301], Loss: 0.5649, Dev: 0.4720\n",
            "Epoch: [148/1000], Step: [300/301], Loss: 0.6168, Dev: 0.4730\n",
            "Epoch: [149/1000], Step: [100/301], Loss: 0.6332, Dev: 0.4740\n",
            "Epoch: [149/1000], Step: [200/301], Loss: 0.6134, Dev: 0.4740\n",
            "Epoch: [149/1000], Step: [300/301], Loss: 0.6161, Dev: 0.4740\n",
            "Epoch: [150/1000], Step: [100/301], Loss: 0.5734, Dev: 0.4770\n",
            "Epoch: [150/1000], Step: [200/301], Loss: 0.5856, Dev: 0.4770\n",
            "Epoch: [150/1000], Step: [300/301], Loss: 0.5998, Dev: 0.4740\n",
            "Epoch: [151/1000], Step: [100/301], Loss: 0.6218, Dev: 0.4740\n",
            "Epoch: [151/1000], Step: [200/301], Loss: 0.6344, Dev: 0.4720\n",
            "Epoch: [151/1000], Step: [300/301], Loss: 0.6255, Dev: 0.4740\n",
            "Epoch: [152/1000], Step: [100/301], Loss: 0.5958, Dev: 0.4810\n",
            "Epoch: [152/1000], Step: [200/301], Loss: 0.6319, Dev: 0.4810\n",
            "Epoch: [152/1000], Step: [300/301], Loss: 0.5765, Dev: 0.4750\n",
            "Epoch: [153/1000], Step: [100/301], Loss: 0.6120, Dev: 0.4720\n",
            "Epoch: [153/1000], Step: [200/301], Loss: 0.6119, Dev: 0.4780\n",
            "Epoch: [153/1000], Step: [300/301], Loss: 0.5622, Dev: 0.4760\n",
            "Epoch: [154/1000], Step: [100/301], Loss: 0.5590, Dev: 0.4790\n",
            "Epoch: [154/1000], Step: [200/301], Loss: 0.6484, Dev: 0.4800\n",
            "Epoch: [154/1000], Step: [300/301], Loss: 0.6004, Dev: 0.4790\n",
            "Epoch: [155/1000], Step: [100/301], Loss: 0.6171, Dev: 0.4750\n",
            "Epoch: [155/1000], Step: [200/301], Loss: 0.6356, Dev: 0.4810\n",
            "Epoch: [155/1000], Step: [300/301], Loss: 0.6062, Dev: 0.4790\n",
            "Epoch: [156/1000], Step: [100/301], Loss: 0.6621, Dev: 0.4800\n",
            "Epoch: [156/1000], Step: [200/301], Loss: 0.6510, Dev: 0.4750\n",
            "Epoch: [156/1000], Step: [300/301], Loss: 0.6600, Dev: 0.4800\n",
            "Epoch: [157/1000], Step: [100/301], Loss: 0.6135, Dev: 0.4800\n",
            "Epoch: [157/1000], Step: [200/301], Loss: 0.6562, Dev: 0.4800\n",
            "Epoch: [157/1000], Step: [300/301], Loss: 0.6123, Dev: 0.4800\n",
            "Epoch: [158/1000], Step: [100/301], Loss: 0.5519, Dev: 0.4830\n",
            "Epoch: [158/1000], Step: [200/301], Loss: 0.6322, Dev: 0.4800\n",
            "Epoch: [158/1000], Step: [300/301], Loss: 0.6200, Dev: 0.4780\n",
            "Epoch: [159/1000], Step: [100/301], Loss: 0.6669, Dev: 0.4830\n",
            "Epoch: [159/1000], Step: [200/301], Loss: 0.6170, Dev: 0.4800\n",
            "Epoch: [159/1000], Step: [300/301], Loss: 0.5505, Dev: 0.4790\n",
            "Epoch: [160/1000], Step: [100/301], Loss: 0.6538, Dev: 0.4700\n",
            "Epoch: [160/1000], Step: [200/301], Loss: 0.5986, Dev: 0.4730\n",
            "Epoch: [160/1000], Step: [300/301], Loss: 0.5583, Dev: 0.4810\n",
            "Epoch: [161/1000], Step: [100/301], Loss: 0.6007, Dev: 0.4800\n",
            "Epoch: [161/1000], Step: [200/301], Loss: 0.5509, Dev: 0.4780\n",
            "Epoch: [161/1000], Step: [300/301], Loss: 0.6288, Dev: 0.4800\n",
            "Epoch: [162/1000], Step: [100/301], Loss: 0.6410, Dev: 0.4800\n",
            "Epoch: [162/1000], Step: [200/301], Loss: 0.6406, Dev: 0.4780\n",
            "Epoch: [162/1000], Step: [300/301], Loss: 0.6381, Dev: 0.4810\n",
            "Epoch: [163/1000], Step: [100/301], Loss: 0.6209, Dev: 0.4840\n",
            "Epoch: [163/1000], Step: [200/301], Loss: 0.6208, Dev: 0.4810\n",
            "Epoch: [163/1000], Step: [300/301], Loss: 0.6294, Dev: 0.4810\n",
            "Epoch: [164/1000], Step: [100/301], Loss: 0.6006, Dev: 0.4760\n",
            "Epoch: [164/1000], Step: [200/301], Loss: 0.6179, Dev: 0.4790\n",
            "Epoch: [164/1000], Step: [300/301], Loss: 0.6535, Dev: 0.4810\n",
            "Epoch: [165/1000], Step: [100/301], Loss: 0.6395, Dev: 0.4810\n",
            "Epoch: [165/1000], Step: [200/301], Loss: 0.6452, Dev: 0.4780\n",
            "Epoch: [165/1000], Step: [300/301], Loss: 0.6475, Dev: 0.4820\n",
            "Epoch: [166/1000], Step: [100/301], Loss: 0.6119, Dev: 0.4790\n",
            "Epoch: [166/1000], Step: [200/301], Loss: 0.5259, Dev: 0.4790\n",
            "Epoch: [166/1000], Step: [300/301], Loss: 0.5636, Dev: 0.4820\n",
            "Epoch: [167/1000], Step: [100/301], Loss: 0.6010, Dev: 0.4870\n",
            "Epoch: [167/1000], Step: [200/301], Loss: 0.5466, Dev: 0.4870\n",
            "Epoch: [167/1000], Step: [300/301], Loss: 0.5892, Dev: 0.4830\n",
            "Epoch: [168/1000], Step: [100/301], Loss: 0.6105, Dev: 0.4810\n",
            "Epoch: [168/1000], Step: [200/301], Loss: 0.5746, Dev: 0.4850\n",
            "Epoch: [168/1000], Step: [300/301], Loss: 0.5574, Dev: 0.4840\n",
            "Epoch: [169/1000], Step: [100/301], Loss: 0.4933, Dev: 0.4820\n",
            "Epoch: [169/1000], Step: [200/301], Loss: 0.6255, Dev: 0.4850\n",
            "Epoch: [169/1000], Step: [300/301], Loss: 0.5707, Dev: 0.4830\n",
            "Epoch: [170/1000], Step: [100/301], Loss: 0.5877, Dev: 0.4780\n",
            "Epoch: [170/1000], Step: [200/301], Loss: 0.5552, Dev: 0.4860\n",
            "Epoch: [170/1000], Step: [300/301], Loss: 0.6194, Dev: 0.4840\n",
            "Epoch: [171/1000], Step: [100/301], Loss: 0.5264, Dev: 0.4860\n",
            "Epoch: [171/1000], Step: [200/301], Loss: 0.5995, Dev: 0.4830\n",
            "Epoch: [171/1000], Step: [300/301], Loss: 0.5719, Dev: 0.4850\n",
            "Epoch: [172/1000], Step: [100/301], Loss: 0.6302, Dev: 0.4820\n",
            "Epoch: [172/1000], Step: [200/301], Loss: 0.6583, Dev: 0.4860\n",
            "Epoch: [172/1000], Step: [300/301], Loss: 0.5679, Dev: 0.4850\n",
            "Epoch: [173/1000], Step: [100/301], Loss: 0.6722, Dev: 0.4840\n",
            "Epoch: [173/1000], Step: [200/301], Loss: 0.6003, Dev: 0.4850\n",
            "Epoch: [173/1000], Step: [300/301], Loss: 0.6051, Dev: 0.4850\n",
            "Epoch: [174/1000], Step: [100/301], Loss: 0.5663, Dev: 0.4850\n",
            "Epoch: [174/1000], Step: [200/301], Loss: 0.6294, Dev: 0.4840\n",
            "Epoch: [174/1000], Step: [300/301], Loss: 0.6467, Dev: 0.4840\n",
            "Epoch: [175/1000], Step: [100/301], Loss: 0.6038, Dev: 0.4810\n",
            "Epoch: [175/1000], Step: [200/301], Loss: 0.6158, Dev: 0.4800\n",
            "Epoch: [175/1000], Step: [300/301], Loss: 0.5980, Dev: 0.4850\n",
            "Epoch: [176/1000], Step: [100/301], Loss: 0.6070, Dev: 0.4840\n",
            "Epoch: [176/1000], Step: [200/301], Loss: 0.5405, Dev: 0.4850\n",
            "Epoch: [176/1000], Step: [300/301], Loss: 0.5910, Dev: 0.4850\n",
            "Epoch: [177/1000], Step: [100/301], Loss: 0.6232, Dev: 0.4800\n",
            "Epoch: [177/1000], Step: [200/301], Loss: 0.6415, Dev: 0.4830\n",
            "Epoch: [177/1000], Step: [300/301], Loss: 0.6325, Dev: 0.4850\n",
            "Epoch: [178/1000], Step: [100/301], Loss: 0.4929, Dev: 0.4840\n",
            "Epoch: [178/1000], Step: [200/301], Loss: 0.5529, Dev: 0.4850\n",
            "Epoch: [178/1000], Step: [300/301], Loss: 0.6249, Dev: 0.4840\n",
            "Epoch: [179/1000], Step: [100/301], Loss: 0.6034, Dev: 0.4830\n",
            "Epoch: [179/1000], Step: [200/301], Loss: 0.6602, Dev: 0.4840\n",
            "Epoch: [179/1000], Step: [300/301], Loss: 0.6117, Dev: 0.4850\n",
            "Epoch: [180/1000], Step: [100/301], Loss: 0.5358, Dev: 0.4890\n",
            "Epoch: [180/1000], Step: [200/301], Loss: 0.5960, Dev: 0.4890\n",
            "Epoch: [180/1000], Step: [300/301], Loss: 0.6591, Dev: 0.4830\n",
            "Epoch: [181/1000], Step: [100/301], Loss: 0.5814, Dev: 0.4900\n",
            "Epoch: [181/1000], Step: [200/301], Loss: 0.6180, Dev: 0.4840\n",
            "Epoch: [181/1000], Step: [300/301], Loss: 0.6388, Dev: 0.4830\n",
            "Epoch: [182/1000], Step: [100/301], Loss: 0.6266, Dev: 0.4850\n",
            "Epoch: [182/1000], Step: [200/301], Loss: 0.6202, Dev: 0.4800\n",
            "Epoch: [182/1000], Step: [300/301], Loss: 0.5819, Dev: 0.4830\n",
            "Early Stop\n",
            "171\n",
            "Epoch: [1/1000], Step: [100/301], Loss: 0.5660, Dev: 0.4830\n",
            "Epoch: [1/1000], Step: [200/301], Loss: 0.5831, Dev: 0.4830\n",
            "Epoch: [1/1000], Step: [300/301], Loss: 0.5718, Dev: 0.4830\n",
            "Epoch: [2/1000], Step: [100/301], Loss: 0.6270, Dev: 0.4830\n",
            "Epoch: [2/1000], Step: [200/301], Loss: 0.6477, Dev: 0.4820\n",
            "Epoch: [2/1000], Step: [300/301], Loss: 0.6051, Dev: 0.4830\n",
            "Epoch: [3/1000], Step: [100/301], Loss: 0.5282, Dev: 0.4830\n",
            "Epoch: [3/1000], Step: [200/301], Loss: 0.6680, Dev: 0.4830\n",
            "Epoch: [3/1000], Step: [300/301], Loss: 0.5899, Dev: 0.4820\n",
            "Epoch: [4/1000], Step: [100/301], Loss: 0.6338, Dev: 0.4830\n",
            "Epoch: [4/1000], Step: [200/301], Loss: 0.5755, Dev: 0.4810\n",
            "Epoch: [4/1000], Step: [300/301], Loss: 0.6238, Dev: 0.4810\n"
          ],
          "name": "stdout"
        }
      ]
    },
    {
      "cell_type": "code",
      "metadata": {
        "id": "M5qKK8HX4lYR"
      },
      "source": [
        "print(\"Best Accuracy working with LogisticRegressionMeanPooling:\")\r\n",
        "best_acc, best_epochs, best_lr, best_l2"
      ],
      "execution_count": null,
      "outputs": []
    },
    {
      "cell_type": "markdown",
      "metadata": {
        "id": "jRUlRGIWiqW9"
      },
      "source": [
        "# Evaluation"
      ]
    },
    {
      "cell_type": "markdown",
      "metadata": {
        "id": "6zDrPphzsTBf"
      },
      "source": [
        "## Validity Check\n",
        "This is a way for you to check whether you accidentially renamed answer variables or functions that we will use for automatic evaluation. Note that this is not a comprehensive list and we do not check here whether you accidentially changed the function signatures, so failing this validity check is only a sufficient condition for telling you something went wrong."
      ]
    },
    {
      "cell_type": "code",
      "metadata": {
        "id": "VEnoXoVjsVQ_"
      },
      "source": [
        "for answer in [Q1, Q2, Q3, Q4, Q5, Q6, Q7, Q8, Q9, Q10, QFormulation]:\n",
        "  assert isinstance(answer, str)\n",
        "\n",
        "for fun in [\n",
        "    construct_scaled_identity, \n",
        "    mean_diagonal, \n",
        "    bottom_right_matrix,\n",
        "    transpose_sum,\n",
        "    matrixvector1,\n",
        "    matrixvector2,\n",
        "    matrixvector3,\n",
        "    matrixvector4,\n",
        "    matrixvector5,\n",
        "    fw,\n",
        "    bw,\n",
        "    SortBy,\n",
        "    collapse_mr_dot,\n",
        "    LogisticRegressionMeanPooling,\n",
        "    add_features,\n",
        "    accuracy,\n",
        "    training_loop\n",
        "    ]:\n",
        "  assert callable(fun)"
      ],
      "execution_count": null,
      "outputs": []
    }
  ]
}